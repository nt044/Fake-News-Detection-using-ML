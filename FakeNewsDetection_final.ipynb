{
  "cells": [
    {
      "cell_type": "markdown",
      "metadata": {
        "id": "YMxcQbqbxItL"
      },
      "source": [
        "# Import Libraries and get data"
      ]
    },
    {
      "cell_type": "code",
      "execution_count": null,
      "metadata": {
        "colab": {
          "base_uri": "https://localhost:8080/"
        },
        "id": "dO6ou0zyrAkZ",
        "outputId": "14617230-0f33-4472-aa64-2070eb835816"
      },
      "outputs": [
        {
          "output_type": "stream",
          "name": "stderr",
          "text": [
            "[nltk_data] Downloading package stopwords to /root/nltk_data...\n",
            "[nltk_data]   Unzipping corpora/stopwords.zip.\n"
          ]
        },
        {
          "output_type": "execute_result",
          "data": {
            "text/plain": [
              "True"
            ]
          },
          "metadata": {},
          "execution_count": 1
        }
      ],
      "source": [
        "#Importing Libraries\n",
        "import numpy as np\n",
        "import pandas as pd\n",
        "from matplotlib import pyplot as plt\n",
        "%matplotlib inline\n",
        "import seaborn as sns\n",
        "import re\n",
        "from nltk.corpus import stopwords\n",
        "from nltk.stem.porter import PorterStemmer\n",
        "from sklearn.feature_extraction.text import CountVectorizer\n",
        "from sklearn.feature_extraction.text import TfidfTransformer\n",
        "from sklearn.linear_model import LogisticRegression\n",
        "from sklearn.svm import SVC\n",
        "from sklearn import naive_bayes\n",
        "from sklearn.ensemble import StackingClassifier\n",
        "from sklearn.model_selection import cross_val_score\n",
        "from sklearn.ensemble import VotingClassifier\n",
        "from sklearn.tree import DecisionTreeClassifier\n",
        "from sklearn.ensemble import RandomForestClassifier , GradientBoostingClassifier\n",
        "from sklearn.model_selection import train_test_split , GridSearchCV\n",
        "from sklearn.metrics import accuracy_score , ConfusionMatrixDisplay , classification_report , roc_curve\n",
        "import nltk\n",
        "nltk.download('stopwords')\n"
      ]
    },
    {
      "cell_type": "code",
      "execution_count": null,
      "metadata": {
        "colab": {
          "base_uri": "https://localhost:8080/"
        },
        "id": "xzUDLWLK-Pgx",
        "outputId": "add5a680-b442-4092-be4c-2f95493b72db"
      },
      "outputs": [
        {
          "output_type": "stream",
          "name": "stdout",
          "text": [
            "Mounted at /content/drive\n",
            "   id                                              title              author  \\\n",
            "0   0  House Dem Aide: We Didn’t Even See Comey’s Let...       Darrell Lucus   \n",
            "1   1  FLYNN: Hillary Clinton, Big Woman on Campus - ...     Daniel J. Flynn   \n",
            "2   2                  Why the Truth Might Get You Fired  Consortiumnews.com   \n",
            "3   3  15 Civilians Killed In Single US Airstrike Hav...     Jessica Purkiss   \n",
            "4   4  Iranian woman jailed for fictional unpublished...      Howard Portnoy   \n",
            "\n",
            "                                                text  label  \n",
            "0  House Dem Aide: We Didn’t Even See Comey’s Let...      1  \n",
            "1  Ever get the feeling your life circles the rou...      0  \n",
            "2  Why the Truth Might Get You Fired October 29, ...      1  \n",
            "3  Videos 15 Civilians Killed In Single US Airstr...      1  \n",
            "4  Print \\nAn Iranian woman has been sentenced to...      1  \n"
          ]
        }
      ],
      "source": [
        "import pandas as pd\n",
        "import os\n",
        "\n",
        "# Mount Google Drive\n",
        "from google.colab import drive\n",
        "drive.mount('/content/drive')\n",
        "\n",
        "# File path on Google Drive\n",
        "file_path = '/content/drive/My Drive/Research_Internship/train.csv'\n",
        "\n",
        "# Read CSV file\n",
        "df = pd.read_csv(file_path)\n",
        "\n",
        "# Display the DataFrame\n",
        "print(df.head())"
      ]
    },
    {
      "cell_type": "code",
      "execution_count": null,
      "metadata": {
        "colab": {
          "base_uri": "https://localhost:8080/"
        },
        "id": "7cpoPDMsEG5l",
        "outputId": "b164e576-56f0-42bc-9cf3-4ae335970e9f"
      },
      "outputs": [
        {
          "output_type": "execute_result",
          "data": {
            "text/plain": [
              "   id                                              title              author  \\\n",
              "0   0  House Dem Aide: We Didn’t Even See Comey’s Let...       Darrell Lucus   \n",
              "1   1  FLYNN: Hillary Clinton, Big Woman on Campus - ...     Daniel J. Flynn   \n",
              "2   2                  Why the Truth Might Get You Fired  Consortiumnews.com   \n",
              "3   3  15 Civilians Killed In Single US Airstrike Hav...     Jessica Purkiss   \n",
              "4   4  Iranian woman jailed for fictional unpublished...      Howard Portnoy   \n",
              "\n",
              "                                                text  label  \n",
              "0  House Dem Aide: We Didn’t Even See Comey’s Let...      1  \n",
              "1  Ever get the feeling your life circles the rou...      0  \n",
              "2  Why the Truth Might Get You Fired October 29, ...      1  \n",
              "3  Videos 15 Civilians Killed In Single US Airstr...      1  \n",
              "4  Print \\nAn Iranian woman has been sentenced to...      1  "
            ],
            "text/html": [
              "\n",
              "  <div id=\"df-2b2f4ee4-54ab-4db1-a6e0-faa9f5f0812d\" class=\"colab-df-container\">\n",
              "    <div>\n",
              "<style scoped>\n",
              "    .dataframe tbody tr th:only-of-type {\n",
              "        vertical-align: middle;\n",
              "    }\n",
              "\n",
              "    .dataframe tbody tr th {\n",
              "        vertical-align: top;\n",
              "    }\n",
              "\n",
              "    .dataframe thead th {\n",
              "        text-align: right;\n",
              "    }\n",
              "</style>\n",
              "<table border=\"1\" class=\"dataframe\">\n",
              "  <thead>\n",
              "    <tr style=\"text-align: right;\">\n",
              "      <th></th>\n",
              "      <th>id</th>\n",
              "      <th>title</th>\n",
              "      <th>author</th>\n",
              "      <th>text</th>\n",
              "      <th>label</th>\n",
              "    </tr>\n",
              "  </thead>\n",
              "  <tbody>\n",
              "    <tr>\n",
              "      <th>0</th>\n",
              "      <td>0</td>\n",
              "      <td>House Dem Aide: We Didn’t Even See Comey’s Let...</td>\n",
              "      <td>Darrell Lucus</td>\n",
              "      <td>House Dem Aide: We Didn’t Even See Comey’s Let...</td>\n",
              "      <td>1</td>\n",
              "    </tr>\n",
              "    <tr>\n",
              "      <th>1</th>\n",
              "      <td>1</td>\n",
              "      <td>FLYNN: Hillary Clinton, Big Woman on Campus - ...</td>\n",
              "      <td>Daniel J. Flynn</td>\n",
              "      <td>Ever get the feeling your life circles the rou...</td>\n",
              "      <td>0</td>\n",
              "    </tr>\n",
              "    <tr>\n",
              "      <th>2</th>\n",
              "      <td>2</td>\n",
              "      <td>Why the Truth Might Get You Fired</td>\n",
              "      <td>Consortiumnews.com</td>\n",
              "      <td>Why the Truth Might Get You Fired October 29, ...</td>\n",
              "      <td>1</td>\n",
              "    </tr>\n",
              "    <tr>\n",
              "      <th>3</th>\n",
              "      <td>3</td>\n",
              "      <td>15 Civilians Killed In Single US Airstrike Hav...</td>\n",
              "      <td>Jessica Purkiss</td>\n",
              "      <td>Videos 15 Civilians Killed In Single US Airstr...</td>\n",
              "      <td>1</td>\n",
              "    </tr>\n",
              "    <tr>\n",
              "      <th>4</th>\n",
              "      <td>4</td>\n",
              "      <td>Iranian woman jailed for fictional unpublished...</td>\n",
              "      <td>Howard Portnoy</td>\n",
              "      <td>Print \\nAn Iranian woman has been sentenced to...</td>\n",
              "      <td>1</td>\n",
              "    </tr>\n",
              "  </tbody>\n",
              "</table>\n",
              "</div>\n",
              "    <div class=\"colab-df-buttons\">\n",
              "\n",
              "  <div class=\"colab-df-container\">\n",
              "    <button class=\"colab-df-convert\" onclick=\"convertToInteractive('df-2b2f4ee4-54ab-4db1-a6e0-faa9f5f0812d')\"\n",
              "            title=\"Convert this dataframe to an interactive table.\"\n",
              "            style=\"display:none;\">\n",
              "\n",
              "  <svg xmlns=\"http://www.w3.org/2000/svg\" height=\"24px\" viewBox=\"0 -960 960 960\">\n",
              "    <path d=\"M120-120v-720h720v720H120Zm60-500h600v-160H180v160Zm220 220h160v-160H400v160Zm0 220h160v-160H400v160ZM180-400h160v-160H180v160Zm440 0h160v-160H620v160ZM180-180h160v-160H180v160Zm440 0h160v-160H620v160Z\"/>\n",
              "  </svg>\n",
              "    </button>\n",
              "\n",
              "  <style>\n",
              "    .colab-df-container {\n",
              "      display:flex;\n",
              "      gap: 12px;\n",
              "    }\n",
              "\n",
              "    .colab-df-convert {\n",
              "      background-color: #E8F0FE;\n",
              "      border: none;\n",
              "      border-radius: 50%;\n",
              "      cursor: pointer;\n",
              "      display: none;\n",
              "      fill: #1967D2;\n",
              "      height: 32px;\n",
              "      padding: 0 0 0 0;\n",
              "      width: 32px;\n",
              "    }\n",
              "\n",
              "    .colab-df-convert:hover {\n",
              "      background-color: #E2EBFA;\n",
              "      box-shadow: 0px 1px 2px rgba(60, 64, 67, 0.3), 0px 1px 3px 1px rgba(60, 64, 67, 0.15);\n",
              "      fill: #174EA6;\n",
              "    }\n",
              "\n",
              "    .colab-df-buttons div {\n",
              "      margin-bottom: 4px;\n",
              "    }\n",
              "\n",
              "    [theme=dark] .colab-df-convert {\n",
              "      background-color: #3B4455;\n",
              "      fill: #D2E3FC;\n",
              "    }\n",
              "\n",
              "    [theme=dark] .colab-df-convert:hover {\n",
              "      background-color: #434B5C;\n",
              "      box-shadow: 0px 1px 3px 1px rgba(0, 0, 0, 0.15);\n",
              "      filter: drop-shadow(0px 1px 2px rgba(0, 0, 0, 0.3));\n",
              "      fill: #FFFFFF;\n",
              "    }\n",
              "  </style>\n",
              "\n",
              "    <script>\n",
              "      const buttonEl =\n",
              "        document.querySelector('#df-2b2f4ee4-54ab-4db1-a6e0-faa9f5f0812d button.colab-df-convert');\n",
              "      buttonEl.style.display =\n",
              "        google.colab.kernel.accessAllowed ? 'block' : 'none';\n",
              "\n",
              "      async function convertToInteractive(key) {\n",
              "        const element = document.querySelector('#df-2b2f4ee4-54ab-4db1-a6e0-faa9f5f0812d');\n",
              "        const dataTable =\n",
              "          await google.colab.kernel.invokeFunction('convertToInteractive',\n",
              "                                                    [key], {});\n",
              "        if (!dataTable) return;\n",
              "\n",
              "        const docLinkHtml = 'Like what you see? Visit the ' +\n",
              "          '<a target=\"_blank\" href=https://colab.research.google.com/notebooks/data_table.ipynb>data table notebook</a>'\n",
              "          + ' to learn more about interactive tables.';\n",
              "        element.innerHTML = '';\n",
              "        dataTable['output_type'] = 'display_data';\n",
              "        await google.colab.output.renderOutput(dataTable, element);\n",
              "        const docLink = document.createElement('div');\n",
              "        docLink.innerHTML = docLinkHtml;\n",
              "        element.appendChild(docLink);\n",
              "      }\n",
              "    </script>\n",
              "  </div>\n",
              "\n",
              "\n",
              "<div id=\"df-5d783c8b-c86a-4b49-92d7-47d25ec19822\">\n",
              "  <button class=\"colab-df-quickchart\" onclick=\"quickchart('df-5d783c8b-c86a-4b49-92d7-47d25ec19822')\"\n",
              "            title=\"Suggest charts\"\n",
              "            style=\"display:none;\">\n",
              "\n",
              "<svg xmlns=\"http://www.w3.org/2000/svg\" height=\"24px\"viewBox=\"0 0 24 24\"\n",
              "     width=\"24px\">\n",
              "    <g>\n",
              "        <path d=\"M19 3H5c-1.1 0-2 .9-2 2v14c0 1.1.9 2 2 2h14c1.1 0 2-.9 2-2V5c0-1.1-.9-2-2-2zM9 17H7v-7h2v7zm4 0h-2V7h2v10zm4 0h-2v-4h2v4z\"/>\n",
              "    </g>\n",
              "</svg>\n",
              "  </button>\n",
              "\n",
              "<style>\n",
              "  .colab-df-quickchart {\n",
              "      --bg-color: #E8F0FE;\n",
              "      --fill-color: #1967D2;\n",
              "      --hover-bg-color: #E2EBFA;\n",
              "      --hover-fill-color: #174EA6;\n",
              "      --disabled-fill-color: #AAA;\n",
              "      --disabled-bg-color: #DDD;\n",
              "  }\n",
              "\n",
              "  [theme=dark] .colab-df-quickchart {\n",
              "      --bg-color: #3B4455;\n",
              "      --fill-color: #D2E3FC;\n",
              "      --hover-bg-color: #434B5C;\n",
              "      --hover-fill-color: #FFFFFF;\n",
              "      --disabled-bg-color: #3B4455;\n",
              "      --disabled-fill-color: #666;\n",
              "  }\n",
              "\n",
              "  .colab-df-quickchart {\n",
              "    background-color: var(--bg-color);\n",
              "    border: none;\n",
              "    border-radius: 50%;\n",
              "    cursor: pointer;\n",
              "    display: none;\n",
              "    fill: var(--fill-color);\n",
              "    height: 32px;\n",
              "    padding: 0;\n",
              "    width: 32px;\n",
              "  }\n",
              "\n",
              "  .colab-df-quickchart:hover {\n",
              "    background-color: var(--hover-bg-color);\n",
              "    box-shadow: 0 1px 2px rgba(60, 64, 67, 0.3), 0 1px 3px 1px rgba(60, 64, 67, 0.15);\n",
              "    fill: var(--button-hover-fill-color);\n",
              "  }\n",
              "\n",
              "  .colab-df-quickchart-complete:disabled,\n",
              "  .colab-df-quickchart-complete:disabled:hover {\n",
              "    background-color: var(--disabled-bg-color);\n",
              "    fill: var(--disabled-fill-color);\n",
              "    box-shadow: none;\n",
              "  }\n",
              "\n",
              "  .colab-df-spinner {\n",
              "    border: 2px solid var(--fill-color);\n",
              "    border-color: transparent;\n",
              "    border-bottom-color: var(--fill-color);\n",
              "    animation:\n",
              "      spin 1s steps(1) infinite;\n",
              "  }\n",
              "\n",
              "  @keyframes spin {\n",
              "    0% {\n",
              "      border-color: transparent;\n",
              "      border-bottom-color: var(--fill-color);\n",
              "      border-left-color: var(--fill-color);\n",
              "    }\n",
              "    20% {\n",
              "      border-color: transparent;\n",
              "      border-left-color: var(--fill-color);\n",
              "      border-top-color: var(--fill-color);\n",
              "    }\n",
              "    30% {\n",
              "      border-color: transparent;\n",
              "      border-left-color: var(--fill-color);\n",
              "      border-top-color: var(--fill-color);\n",
              "      border-right-color: var(--fill-color);\n",
              "    }\n",
              "    40% {\n",
              "      border-color: transparent;\n",
              "      border-right-color: var(--fill-color);\n",
              "      border-top-color: var(--fill-color);\n",
              "    }\n",
              "    60% {\n",
              "      border-color: transparent;\n",
              "      border-right-color: var(--fill-color);\n",
              "    }\n",
              "    80% {\n",
              "      border-color: transparent;\n",
              "      border-right-color: var(--fill-color);\n",
              "      border-bottom-color: var(--fill-color);\n",
              "    }\n",
              "    90% {\n",
              "      border-color: transparent;\n",
              "      border-bottom-color: var(--fill-color);\n",
              "    }\n",
              "  }\n",
              "</style>\n",
              "\n",
              "  <script>\n",
              "    async function quickchart(key) {\n",
              "      const quickchartButtonEl =\n",
              "        document.querySelector('#' + key + ' button');\n",
              "      quickchartButtonEl.disabled = true;  // To prevent multiple clicks.\n",
              "      quickchartButtonEl.classList.add('colab-df-spinner');\n",
              "      try {\n",
              "        const charts = await google.colab.kernel.invokeFunction(\n",
              "            'suggestCharts', [key], {});\n",
              "      } catch (error) {\n",
              "        console.error('Error during call to suggestCharts:', error);\n",
              "      }\n",
              "      quickchartButtonEl.classList.remove('colab-df-spinner');\n",
              "      quickchartButtonEl.classList.add('colab-df-quickchart-complete');\n",
              "    }\n",
              "    (() => {\n",
              "      let quickchartButtonEl =\n",
              "        document.querySelector('#df-5d783c8b-c86a-4b49-92d7-47d25ec19822 button');\n",
              "      quickchartButtonEl.style.display =\n",
              "        google.colab.kernel.accessAllowed ? 'block' : 'none';\n",
              "    })();\n",
              "  </script>\n",
              "</div>\n",
              "\n",
              "    </div>\n",
              "  </div>\n"
            ]
          },
          "metadata": {},
          "execution_count": 3
        }
      ],
      "source": [
        "df.head()"
      ]
    },
    {
      "cell_type": "markdown",
      "metadata": {
        "id": "SQaipFQXxajF"
      },
      "source": [
        "# Pre-Processing without Stemming"
      ]
    },
    {
      "cell_type": "code",
      "execution_count": null,
      "metadata": {
        "colab": {
          "base_uri": "https://localhost:8080/"
        },
        "id": "-FpfKHoCrhm5",
        "outputId": "2aff2eed-2689-4d66-f770-8260a502e07e"
      },
      "outputs": [
        {
          "output_type": "stream",
          "name": "stdout",
          "text": [
            "id           0\n",
            "title      558\n",
            "author    1957\n",
            "text        39\n",
            "label        0\n",
            "dtype: int64\n",
            "--------------------------\n"
          ]
        }
      ],
      "source": [
        "print(df.isnull().sum())\n",
        "print('--------------------------')"
      ]
    },
    {
      "cell_type": "code",
      "execution_count": null,
      "metadata": {
        "id": "MonAhAIKsjWc"
      },
      "outputs": [],
      "source": [
        "#As we have a very large dataset, we can replace the missing values with ull which will not effect the dataset much\n",
        "#Had it been a small dataset then we would have to replace with some other values\n",
        "df.fillna(\" \", inplace=True)"
      ]
    },
    {
      "cell_type": "code",
      "execution_count": null,
      "metadata": {
        "colab": {
          "base_uri": "https://localhost:8080/"
        },
        "id": "Be2hSk_9snmR",
        "outputId": "03f4d949-4275-431f-d717-78d13ce656d6"
      },
      "outputs": [
        {
          "output_type": "stream",
          "name": "stdout",
          "text": [
            "id        0\n",
            "title     0\n",
            "author    0\n",
            "text      0\n",
            "label     0\n",
            "dtype: int64\n",
            "--------------------------\n"
          ]
        }
      ],
      "source": [
        "print(df.isnull().sum())\n",
        "print('--------------------------')"
      ]
    },
    {
      "cell_type": "code",
      "execution_count": null,
      "metadata": {
        "id": "ySWGc1P3sqUn"
      },
      "outputs": [],
      "source": [
        "#merging title and author name\n",
        "df['content'] = df['title']+' '+df['author']"
      ]
    },
    {
      "cell_type": "code",
      "execution_count": null,
      "metadata": {
        "colab": {
          "base_uri": "https://localhost:8080/"
        },
        "id": "bdzyyT_ps8x0",
        "outputId": "3abcdce9-7ef5-452f-b4e2-b019166aa938"
      },
      "outputs": [
        {
          "output_type": "execute_result",
          "data": {
            "text/plain": [
              "0        house dem aide we didn t even see comey s lett...\n",
              "1        flynn hillary clinton big woman on campus brei...\n",
              "2        why the truth might get you fired consortiumne...\n",
              "3        civilians killed in single us airstrike have b...\n",
              "4        iranian woman jailed for fictional unpublished...\n",
              "                               ...                        \n",
              "20795    rapper t i trump a poster child for white supr...\n",
              "20796    n f l playoffs schedule matchups and odds the ...\n",
              "20797    macy s is said to receive takeover approach by...\n",
              "20798    nato russia to hold parallel exercises in balk...\n",
              "20799                 what keeps the f alive david swanson\n",
              "Name: content, Length: 20800, dtype: object"
            ]
          },
          "metadata": {},
          "execution_count": 8
        }
      ],
      "source": [
        "port_stem=PorterStemmer()\n",
        "def stemming(content):\n",
        "    #replace any non-alphabetic characters in the content variable with a space character\n",
        "    stemmed_content= re.sub('[^a-zA-Z]',' ',content)\n",
        "    #Convert all words into lower case letters\n",
        "    stemmed_content = stemmed_content.lower()\n",
        "    # Split the words into list\n",
        "    stemmed_content = stemmed_content.split()\n",
        "    #generate a list of stemmed words from stemmed_content, excluding any stop words from the list\n",
        "    # stemmed_content = [port_stem.stem(word) for word in stemmed_content if not word in stopwords.words('english')]\n",
        "    #Join the elements from the list 'stemmed_content' into a single string separated by spaces\n",
        "    stemmed_content = \" \".join(stemmed_content)\n",
        "    return stemmed_content\n",
        "df['content']= df['content'].apply(stemming)\n",
        "df['content']"
      ]
    },
    {
      "cell_type": "code",
      "execution_count": null,
      "metadata": {
        "id": "LY0mtL1czRP1"
      },
      "outputs": [],
      "source": [
        "transformer = TfidfTransformer(smooth_idf=False)\n",
        "count_vectorizer = CountVectorizer(ngram_range=(1,4), max_features=5000)\n",
        "counts = count_vectorizer.fit_transform(df['content'].values)\n",
        "tfidf = transformer.fit_transform(counts)"
      ]
    },
    {
      "cell_type": "markdown",
      "metadata": {
        "id": "wlC_VS9Txyir"
      },
      "source": [
        "# Splitting Data"
      ]
    },
    {
      "cell_type": "code",
      "execution_count": null,
      "metadata": {
        "colab": {
          "base_uri": "https://localhost:8080/"
        },
        "id": "A-IBrn7mFXNv",
        "outputId": "3ee49521-124f-4145-f2c7-63928075523a"
      },
      "outputs": [
        {
          "name": "stdout",
          "output_type": "stream",
          "text": [
            "target shape: (20800,)\n",
            "X shape: (20800, 5000)\n",
            "The shape of X_train is: 14560\n",
            "The shape of X_test is: 6240\n"
          ]
        }
      ],
      "source": [
        "targets=df['label'].values\n",
        "print(f\"target shape: {targets.shape}\")\n",
        "print(f\"X shape: {tfidf.shape}\")\n",
        "X_train, X_test, y_train, y_test = train_test_split(tfidf, targets, test_size=0.3, random_state=None)\n",
        "print(f\"The shape of X_train is: {X_train.shape[0]}\")\n",
        "print(f\"The shape of X_test is: {X_test.shape[0]}\")"
      ]
    },
    {
      "cell_type": "code",
      "execution_count": null,
      "metadata": {
        "id": "S_JBR5FDF-Io"
      },
      "outputs": [],
      "source": [
        "def train(model , model_name):\n",
        "    model.fit(X_train,y_train)\n",
        "    print(f\"Training accuracy of {model_name} is {model.score(X_train,y_train)}\")\n",
        "    print(f\"testing accuracy of {model_name} is {model.score(X_test,y_test)}\")\n",
        "def conf_matrix(model):\n",
        "    ConfusionMatrixDisplay.from_estimator(\n",
        "        model,\n",
        "        X_test,\n",
        "        y_test\n",
        "    )\n",
        "def class_report(model):\n",
        "    print(classification_report(\n",
        "        y_test,\n",
        "        model.predict(X_test)\n",
        "    ))"
      ]
    },
    {
      "cell_type": "markdown",
      "metadata": {
        "id": "NxHbXsTFy50A"
      },
      "source": [
        "# Logistic Regression"
      ]
    },
    {
      "cell_type": "markdown",
      "metadata": {
        "id": "xjCPMaYg3WrN"
      },
      "source": [
        "Normal fitting is done => We can vitness Overfitting as test accuracy>train accuracy"
      ]
    },
    {
      "cell_type": "code",
      "execution_count": null,
      "metadata": {
        "colab": {
          "base_uri": "https://localhost:8080/"
        },
        "id": "fI__mRtTy_b0",
        "outputId": "9784ca4c-01ec-4be7-b608-d0406339161c"
      },
      "outputs": [
        {
          "name": "stdout",
          "output_type": "stream",
          "text": [
            "Training accuracy of Logistic Regreesion is 0.9902472527472528\n",
            "testing accuracy of Logistic Regreesion is 0.9863782051282052\n"
          ]
        }
      ],
      "source": [
        "train(LogisticRegression(), 'Logistic Regreesion')"
      ]
    },
    {
      "cell_type": "markdown",
      "metadata": {
        "id": "qHoPU0k13gEI"
      },
      "source": [
        "Cross-Validation => We suspect overfitting as test data accuracy is still less than training data accuracy.\n",
        "\n",
        "We should know difference between K-fold and Stratified K-Fold"
      ]
    },
    {
      "cell_type": "code",
      "execution_count": null,
      "metadata": {
        "colab": {
          "base_uri": "https://localhost:8080/"
        },
        "id": "Q0i3DTnC_eHV",
        "outputId": "aa0ae7d5-137c-40af-d836-fc439a099910"
      },
      "outputs": [
        {
          "name": "stdout",
          "output_type": "stream",
          "text": [
            "Cross-validation scores: [0.98214286 0.98523352 0.98385989 0.97836538 0.98008242]\n",
            "Mean cross-validation score: 0.9819368131868131\n",
            "Cross-validation scores: [0.96794872 0.96875    0.96073718 0.96314103 0.97115385]\n",
            "Mean cross-validation score: 0.9663461538461539\n"
          ]
        }
      ],
      "source": [
        "# Perform cross-validation\n",
        "from sklearn.model_selection import cross_val_score\n",
        "\n",
        "cross_val_scores_train = cross_val_score(LogisticRegression(), X_train, y_train, cv=5)\n",
        "cross_val_scores_test = cross_val_score(LogisticRegression(), X_test, y_test, cv=5)\n",
        "\n",
        "print(f\"Cross-validation scores: {cross_val_scores_train}\")\n",
        "print(f\"Mean cross-validation score: {cross_val_scores_train.mean()}\")\n",
        "\n",
        "print(f\"Cross-validation scores: {cross_val_scores_test}\")\n",
        "print(f\"Mean cross-validation score: {cross_val_scores_test.mean()}\")"
      ]
    },
    {
      "cell_type": "markdown",
      "metadata": {
        "id": "wr4UIYK_EzSf"
      },
      "source": [
        "10-cross-fold validation\n"
      ]
    },
    {
      "cell_type": "code",
      "execution_count": null,
      "metadata": {
        "colab": {
          "base_uri": "https://localhost:8080/"
        },
        "id": "etoESQUjEyuT",
        "outputId": "c3a9e0fc-1453-4005-9218-0a79c8e8637a"
      },
      "outputs": [
        {
          "name": "stdout",
          "output_type": "stream",
          "text": [
            "Cross-validation scores: [0.98455201 0.98146241 0.98352214 0.99176107 0.98867147 0.98043254\n",
            " 0.98043254 0.98455201 0.98970134 0.97940268 0.98041237 0.9814433\n",
            " 0.98453608 0.98556701 0.98041237]\n",
            "Mean cross-validation score: 0.9837907566861669\n",
            "Cross-validation scores: [0.96634615 0.96153846 0.98317308 0.98317308 0.97836538 0.95673077\n",
            " 0.95913462 0.96394231 0.96634615 0.99038462 0.96634615 0.94471154\n",
            " 0.98076923 0.97355769 0.97836538]\n",
            "Mean cross-validation score: 0.9701923076923076\n"
          ]
        }
      ],
      "source": [
        "# Perform cross-validation\n",
        "from sklearn.model_selection import cross_val_score\n",
        "\n",
        "cross_val_scores_train = cross_val_score(LogisticRegression(), X_train, y_train, cv=15)\n",
        "cross_val_scores_test = cross_val_score(LogisticRegression(), X_test, y_test, cv=15)\n",
        "\n",
        "print(f\"Cross-validation scores: {cross_val_scores_train}\")\n",
        "print(f\"Mean cross-validation score: {cross_val_scores_train.mean()}\")\n",
        "\n",
        "print(f\"Cross-validation scores: {cross_val_scores_test}\")\n",
        "print(f\"Mean cross-validation score: {cross_val_scores_test.mean()}\")"
      ]
    },
    {
      "cell_type": "markdown",
      "metadata": {
        "id": "TtXf0d8C3z5C"
      },
      "source": [
        "Cross-Validation + Regularization => We suspect overfitting as test data accuracy is still less than training data accuracy"
      ]
    },
    {
      "cell_type": "code",
      "execution_count": null,
      "metadata": {
        "colab": {
          "base_uri": "https://localhost:8080/"
        },
        "id": "waIdPZEy33Wa",
        "outputId": "f7e65b60-2d43-4df8-ec58-ae5564f7df27"
      },
      "outputs": [
        {
          "name": "stdout",
          "output_type": "stream",
          "text": [
            "Cross-validation scores: [0.94024725 0.94539835 0.93853022 0.93406593 0.93543956]\n",
            "Mean cross-validation score: 0.9387362637362637\n",
            "Cross-validation scores: [0.90544872 0.91266026 0.89903846 0.91266026 0.91666667]\n",
            "Mean cross-validation score: 0.9092948717948719\n"
          ]
        }
      ],
      "source": [
        "# Perform cross-validation\n",
        "from sklearn.model_selection import cross_val_score\n",
        "\n",
        "cross_val_scores_train = cross_val_score(LogisticRegression(C=0.1), X_train, y_train, cv=5)\n",
        "cross_val_scores_test = cross_val_score(LogisticRegression(C=0.1), X_test, y_test, cv=5)\n",
        "\n",
        "print(f\"Cross-validation scores: {cross_val_scores_train}\")\n",
        "print(f\"Mean cross-validation score: {cross_val_scores_train.mean()}\")\n",
        "\n",
        "print(f\"Cross-validation scores: {cross_val_scores_test}\")\n",
        "print(f\"Mean cross-validation score: {cross_val_scores_test.mean()}\")"
      ]
    },
    {
      "cell_type": "markdown",
      "metadata": {
        "id": "kcvyNbZlFCIX"
      },
      "source": [
        "10-cross-fold"
      ]
    },
    {
      "cell_type": "code",
      "execution_count": null,
      "metadata": {
        "colab": {
          "base_uri": "https://localhost:8080/"
        },
        "id": "HMhIgQPkFAVk",
        "outputId": "1574b087-6fcf-484b-8ab7-ff18752b48dc"
      },
      "outputs": [
        {
          "name": "stdout",
          "output_type": "stream",
          "text": [
            "Cross-validation scores: [0.94444444 0.94650206 0.94650206 0.94238683 0.9526749  0.93621399\n",
            " 0.9526749  0.95679012 0.94855967 0.95679012 0.94226804 0.94226804\n",
            " 0.94226804 0.94639175 0.94845361 0.94020619 0.94845361 0.94020619\n",
            " 0.93608247 0.93814433 0.94226804 0.94639175 0.93814433 0.94639175\n",
            " 0.9443299  0.95257732 0.93814433 0.92989691 0.92989691 0.94226804]\n",
            "Mean cross-validation score: 0.9439530213680652\n",
            "Cross-validation scores: [0.9375     0.92307692 0.88942308 0.91346154 0.94711538 0.89423077\n",
            " 0.94711538 0.91346154 0.93269231 0.92307692 0.92788462 0.88461538\n",
            " 0.87980769 0.91826923 0.89903846 0.91826923 0.89423077 0.92307692\n",
            " 0.9375     0.93269231 0.91826923 0.89903846 0.94230769 0.89423077\n",
            " 0.89423077 0.94230769 0.92307692 0.94230769 0.92307692 0.87980769]\n",
            "Mean cross-validation score: 0.9165064102564104\n"
          ]
        }
      ],
      "source": [
        "# Perform cross-validation\n",
        "from sklearn.model_selection import cross_val_score\n",
        "\n",
        "cross_val_scores_train = cross_val_score(LogisticRegression(C=0.1), X_train, y_train, cv=30)\n",
        "cross_val_scores_test = cross_val_score(LogisticRegression(C=0.1), X_test, y_test, cv=30)\n",
        "\n",
        "print(f\"Cross-validation scores: {cross_val_scores_train}\")\n",
        "print(f\"Mean cross-validation score: {cross_val_scores_train.mean()}\")\n",
        "\n",
        "print(f\"Cross-validation scores: {cross_val_scores_test}\")\n",
        "print(f\"Mean cross-validation score: {cross_val_scores_test.mean()}\")"
      ]
    },
    {
      "cell_type": "markdown",
      "metadata": {
        "id": "gaEkFSiJ4UcJ"
      },
      "source": [
        "Regularization"
      ]
    },
    {
      "cell_type": "code",
      "execution_count": null,
      "metadata": {
        "id": "xErb-fxA6a6Z"
      },
      "outputs": [],
      "source": [
        "lr=LogisticRegression(C=0.07)"
      ]
    },
    {
      "cell_type": "code",
      "execution_count": null,
      "metadata": {
        "colab": {
          "base_uri": "https://localhost:8080/"
        },
        "id": "RV7OKqah4WCK",
        "outputId": "3b947efa-0fe7-47af-a77e-c7c1cc373c6b"
      },
      "outputs": [
        {
          "name": "stdout",
          "output_type": "stream",
          "text": [
            "Training accuracy of Logistic Regreesion is 0.9383241758241758\n",
            "testing accuracy of Logistic Regreesion is 0.9352564102564103\n"
          ]
        }
      ],
      "source": [
        "train(lr, 'Logistic Regreesion')"
      ]
    },
    {
      "cell_type": "code",
      "execution_count": null,
      "metadata": {
        "colab": {
          "base_uri": "https://localhost:8080/",
          "height": 449
        },
        "id": "bCqNihwd6V_3",
        "outputId": "4e35bb69-8b24-44e0-8529-c042b04d4726"
      },
      "outputs": [
        {
          "data": {
            "image/png": "[encoded data removed]",
            "text/plain": [
              "<Figure size 640x480 with 2 Axes>"
            ]
          },
          "metadata": {},
          "output_type": "display_data"
        }
      ],
      "source": [
        "conf_matrix(lr)"
      ]
    },
    {
      "cell_type": "code",
      "execution_count": null,
      "metadata": {
        "colab": {
          "base_uri": "https://localhost:8080/"
        },
        "id": "ierrk1rh7QhW",
        "outputId": "69add8fc-0a66-423c-e8c1-f1b38849fb38"
      },
      "outputs": [
        {
          "name": "stdout",
          "output_type": "stream",
          "text": [
            "              precision    recall  f1-score   support\n",
            "\n",
            "           0       1.00      0.87      0.93      3124\n",
            "           1       0.89      1.00      0.94      3116\n",
            "\n",
            "    accuracy                           0.94      6240\n",
            "   macro avg       0.94      0.94      0.94      6240\n",
            "weighted avg       0.94      0.94      0.94      6240\n",
            "\n"
          ]
        }
      ],
      "source": [
        "class_report(lr)"
      ]
    },
    {
      "cell_type": "markdown",
      "metadata": {
        "id": "0DujH4mh85Up"
      },
      "source": [
        "# SVM"
      ]
    },
    {
      "cell_type": "markdown",
      "metadata": {
        "id": "TKK46mNEmh7A"
      },
      "source": [
        "Normal Fit"
      ]
    },
    {
      "cell_type": "code",
      "execution_count": null,
      "metadata": {
        "colab": {
          "base_uri": "https://localhost:8080/"
        },
        "id": "bLgjuSueGVSI",
        "outputId": "59fe01ab-da16-4f2a-a591-04f9ab5e6bdb"
      },
      "outputs": [
        {
          "name": "stdout",
          "output_type": "stream",
          "text": [
            "Training accuracy of SVM is 0.998282967032967\n",
            "testing accuracy of SVM is 0.9910256410256411\n"
          ]
        }
      ],
      "source": [
        "svc_model = SVC(probability=True)\n",
        "train(svc_model,\"SVM\")"
      ]
    },
    {
      "cell_type": "markdown",
      "metadata": {
        "id": "4Ts7ln0hmk0z"
      },
      "source": [
        "Regularization"
      ]
    },
    {
      "cell_type": "code",
      "execution_count": null,
      "metadata": {
        "id": "9yHrFJpSdWSo"
      },
      "outputs": [],
      "source": [
        "# for i in np.arange(0.01,0.11,0.01):\n",
        "#   print(i)\n",
        "#   train(SVC(probability=True, C=i), 'SVM')\n"
      ]
    },
    {
      "cell_type": "markdown",
      "metadata": {
        "id": "m_QUyHMumnic"
      },
      "source": [
        "Cross Validation"
      ]
    },
    {
      "cell_type": "markdown",
      "metadata": {
        "id": "AgaTTrfBGwAA"
      },
      "source": [
        "5 cross-fold"
      ]
    },
    {
      "cell_type": "code",
      "execution_count": null,
      "metadata": {
        "id": "LmplWJsgGyfz"
      },
      "outputs": [],
      "source": [
        "# Perform cross-validation\n",
        "from sklearn.model_selection import cross_val_score\n",
        "\n",
        "cross_val_scores_svm_train = cross_val_score(SVC(probability=True), X_train, y_train, cv=10)\n",
        "cross_val_scores_svm_test = cross_val_score(SVC(probability=True), X_test, y_test, cv=10)\n",
        "\n",
        "print(f\"Cross-validation scores: {cross_val_scores_svm_train}\")\n",
        "print(f\"Mean cross-validation score: {cross_val_scores_svm_train.mean()}\")\n",
        "\n",
        "print(f\"Cross-validation scores: {cross_val_scores_svm_test}\")\n",
        "print(f\"Mean cross-validation score: {cross_val_scores_svm_test.mean()}\")"
      ]
    },
    {
      "cell_type": "markdown",
      "metadata": {
        "id": "Fdjg0lyVGuL6"
      },
      "source": [
        "10 cross-fold"
      ]
    },
    {
      "cell_type": "code",
      "execution_count": null,
      "metadata": {
        "colab": {
          "base_uri": "https://localhost:8080/"
        },
        "id": "X4Y3zQZhJ7om",
        "outputId": "031e80a2-a005-47c2-ce04-5ab1ebdb23a4"
      },
      "outputs": [
        {
          "name": "stdout",
          "output_type": "stream",
          "text": [
            "Cross-validation scores: [0.97321429 0.96497253 0.96497253 0.96771978 0.96634615 0.97321429\n",
            " 0.96840659 0.96497253 0.96771978 0.9635989 ]\n",
            "Mean cross-validation score: 0.9675137362637363\n",
            "Cross-validation scores: [0.96474359 0.95673077 0.96634615 0.95032051 0.96794872 0.97275641\n",
            " 0.96634615 0.96314103 0.9599359  0.96314103]\n",
            "Mean cross-validation score: 0.9631410256410255\n"
          ]
        }
      ],
      "source": [
        "# Perform cross-validation\n",
        "from sklearn.model_selection import cross_val_score\n",
        "\n",
        "cross_val_scores_svm_train = cross_val_score(SVC(probability=True), X_train, y_train, cv=10)\n",
        "cross_val_scores_svm_test = cross_val_score(SVC(probability=True), X_test, y_test, cv=10)\n",
        "\n",
        "print(f\"Cross-validation scores: {cross_val_scores_svm_train}\")\n",
        "print(f\"Mean cross-validation score: {cross_val_scores_svm_train.mean()}\")\n",
        "\n",
        "print(f\"Cross-validation scores: {cross_val_scores_svm_test}\")\n",
        "print(f\"Mean cross-validation score: {cross_val_scores_svm_test.mean()}\")"
      ]
    },
    {
      "cell_type": "markdown",
      "metadata": {
        "id": "TFEOqEaPmqSy"
      },
      "source": [
        "Cross- Validation+Regularization"
      ]
    },
    {
      "cell_type": "code",
      "execution_count": null,
      "metadata": {
        "colab": {
          "background_save": true,
          "base_uri": "https://localhost:8080/"
        },
        "id": "qq4uObbIOtII",
        "outputId": "de23b79d-71f4-404c-e48e-0cc905441026"
      },
      "outputs": [
        {
          "name": "stderr",
          "output_type": "stream",
          "text": [
            "/usr/local/lib/python3.10/dist-packages/sklearn/model_selection/_search.py:305: UserWarning: The total space of parameters 1 is smaller than n_iter=10. Running 1 iterations. For exhaustive searches, use GridSearchCV.\n",
            "  warnings.warn(\n"
          ]
        },
        {
          "name": "stdout",
          "output_type": "stream",
          "text": [
            "Best Hyperparameters:  {'mean_fit_time': array([122.43248823]), 'std_fit_time': array([0.95772929]), 'mean_score_time': array([2.47854509]), 'std_score_time': array([0.28996312]), 'param_C': masked_array(data=[0.1],\n",
            "             mask=[False],\n",
            "       fill_value='?',\n",
            "            dtype=object), 'params': [{'C': 0.1}], 'split0_test_score': array([0.94230769]), 'split1_test_score': array([0.93681319]), 'split2_test_score': array([0.93818681]), 'split3_test_score': array([0.93200549]), 'split4_test_score': array([0.93543956]), 'split5_test_score': array([0.93131868]), 'split6_test_score': array([0.93543956]), 'split7_test_score': array([0.92857143]), 'split8_test_score': array([0.94093407]), 'split9_test_score': array([0.93475275]), 'mean_test_score': array([0.93557692]), 'std_test_score': array([0.00403762]), 'rank_test_score': array([1], dtype=int32), 'split0_train_score': array([0.94223138]), 'split1_train_score': array([0.94261294]), 'split2_train_score': array([0.94268926]), 'split3_train_score': array([0.94200244]), 'split4_train_score': array([0.94200244]), 'split5_train_score': array([0.94268926]), 'split6_train_score': array([0.94192613]), 'split7_train_score': array([0.9417735]), 'split8_train_score': array([0.94291819]), 'split9_train_score': array([0.94246032]), 'mean_train_score': array([0.94233059]), 'std_train_score': array([0.00037393])}\n",
            "Mean Cross-validation Score:  0.935576923076923\n",
            "Training accuracy of LogisticRegression is 0.9466346153846154\n",
            "testing accuracy of LogisticRegression is 0.9379807692307692\n"
          ]
        }
      ],
      "source": [
        "# Perform randomized search for hyperparameter tuning\n",
        "from sklearn.model_selection import RandomizedSearchCV\n",
        "param_grid = {'C': [0.1]}\n",
        "random_search = RandomizedSearchCV(SVC(probability=True), param_grid, cv=10, return_train_score=True)\n",
        "random_search.fit(X_train, y_train)\n",
        "\n",
        "# Print best hyperparameters and mean cross-validation score\n",
        "print(\"Best Hyperparameters: \", random_search.cv_results_)\n",
        "print(\"Mean Cross-validation Score: \", random_search.best_score_)\n",
        "\n",
        "# Train and evaluate the model with the best hyperparameters\n",
        "best_model_svm = random_search.best_estimator_\n",
        "train(best_model_svm, 'LogisticRegression')\n",
        "# print(f\"Mean cross-validation score: {best_model_svm.mean()}\")"
      ]
    },
    {
      "cell_type": "code",
      "execution_count": null,
      "metadata": {
        "colab": {
          "base_uri": "https://localhost:8080/"
        },
        "id": "BN84Rvy19Ipk",
        "outputId": "e9ed700e-e277-403a-a6cd-eb44187a82a4"
      },
      "outputs": [
        {
          "name": "stdout",
          "output_type": "stream",
          "text": [
            "              precision    recall  f1-score   support\n",
            "\n",
            "           0       1.00      0.88      0.94      3099\n",
            "           1       0.90      1.00      0.94      3141\n",
            "\n",
            "    accuracy                           0.94      6240\n",
            "   macro avg       0.95      0.94      0.94      6240\n",
            "weighted avg       0.95      0.94      0.94      6240\n",
            "\n"
          ]
        }
      ],
      "source": [
        "class_report(best_model_svm)"
      ]
    },
    {
      "cell_type": "code",
      "execution_count": null,
      "metadata": {
        "id": "2Kan-G2majVk"
      },
      "outputs": [],
      "source": [
        "import matplotlib.pyplot as plt\n",
        "\n",
        "train_scores_mean = random_search.cv_results_['mean_train_score']\n",
        "train_scores_std = random_search.cv_results_['std_train_score']\n",
        "test_scores_mean = random_search.cv_results_['mean_test_score']\n",
        "test_scores_std = random_search.cv_results_['std_test_score']\n",
        "param_C_values = [str(c) for c in param_grid['C']]\n",
        "\n",
        "plt.figure(figsize=(10, 6))\n",
        "plt.title(\"Training and Testing Scores vs. C\")\n",
        "plt.xlabel(\"C\")\n",
        "plt.ylabel(\"Score\")\n",
        "plt.grid()\n",
        "\n",
        "plt.fill_between(param_C_values, train_scores_mean - train_scores_std,\n",
        "                 train_scores_mean + train_scores_std, alpha=0.1, color=\"b\")\n",
        "plt.fill_between(param_C_values, test_scores_mean - test_scores_std,\n",
        "                 test_scores_mean + test_scores_std, alpha=0.1, color=\"r\")\n",
        "plt.plot(param_C_values, train_scores_mean, 'o-', color=\"b\",\n",
        "         label=\"Training score\")\n",
        "plt.plot(param_C_values, test_scores_mean, 'o-', color=\"r\",\n",
        "         label=\"Testing score\")\n",
        "\n",
        "plt.legend(loc=\"best\")\n",
        "plt.xticks(rotation=45)\n",
        "plt.show()\n"
      ]
    },
    {
      "cell_type": "code",
      "execution_count": null,
      "metadata": {
        "colab": {
          "base_uri": "https://localhost:8080/"
        },
        "id": "qHfGry3npfFk",
        "outputId": "8130ab86-41c1-433e-c647-462687d70fc8"
      },
      "outputs": [
        {
          "name": "stdout",
          "output_type": "stream",
          "text": [
            "Training accuracy of SVM is 0.8214972527472527\n",
            "testing accuracy of SVM is 0.8091346153846154\n"
          ]
        }
      ],
      "source": [
        "svc_best=SVC(probability=True, C=0.03)\n",
        "train(svc_best, 'SVM')"
      ]
    },
    {
      "cell_type": "code",
      "execution_count": null,
      "metadata": {
        "colab": {
          "base_uri": "https://localhost:8080/",
          "height": 449
        },
        "id": "IIY5PZ0bHehd",
        "outputId": "f5911492-a6c0-4479-d08c-8c33f14dff47"
      },
      "outputs": [
        {
          "data": {
            "image/png": "[encoded data removed]",
            "text/plain": [
              "<Figure size 640x480 with 2 Axes>"
            ]
          },
          "metadata": {},
          "output_type": "display_data"
        }
      ],
      "source": [
        "conf_matrix(svc_best)"
      ]
    },
    {
      "cell_type": "code",
      "execution_count": null,
      "metadata": {
        "colab": {
          "base_uri": "https://localhost:8080/"
        },
        "id": "ImzJTlYbpse0",
        "outputId": "7315ea4a-53ff-4346-df41-54f6cb2498fb"
      },
      "outputs": [
        {
          "name": "stdout",
          "output_type": "stream",
          "text": [
            "              precision    recall  f1-score   support\n",
            "\n",
            "           0       1.00      0.63      0.77      3187\n",
            "           1       0.72      1.00      0.84      3053\n",
            "\n",
            "    accuracy                           0.81      6240\n",
            "   macro avg       0.86      0.81      0.80      6240\n",
            "weighted avg       0.86      0.81      0.80      6240\n",
            "\n"
          ]
        }
      ],
      "source": [
        "class_report(svc_best)"
      ]
    },
    {
      "cell_type": "markdown",
      "metadata": {
        "id": "R6h2whMiBgOh"
      },
      "source": [
        "# Decision Tree"
      ]
    },
    {
      "cell_type": "markdown",
      "metadata": {
        "id": "W9PHo8dKrLTR"
      },
      "source": [
        "Normal Fit"
      ]
    },
    {
      "cell_type": "code",
      "execution_count": null,
      "metadata": {
        "colab": {
          "base_uri": "https://localhost:8080/"
        },
        "id": "kKxUCBWxrGfz",
        "outputId": "1246f6eb-21a6-459a-ddb3-5341d4449c76"
      },
      "outputs": [
        {
          "name": "stdout",
          "output_type": "stream",
          "text": [
            "Training accuracy of Decision Tree is 1.0\n",
            "testing accuracy of Decision Tree is 0.9897435897435898\n"
          ]
        }
      ],
      "source": [
        "model_dt = DecisionTreeClassifier()\n",
        "train(model_dt, 'Decision Tree')"
      ]
    },
    {
      "cell_type": "markdown",
      "metadata": {
        "id": "QUd95NiWrXpI"
      },
      "source": [
        "Cross-Validation"
      ]
    },
    {
      "cell_type": "code",
      "execution_count": null,
      "metadata": {
        "colab": {
          "base_uri": "https://localhost:8080/"
        },
        "id": "tuFif2ferVo7",
        "outputId": "96a8bba4-45a3-4adf-e099-3fedb5c03684"
      },
      "outputs": [
        {
          "name": "stdout",
          "output_type": "stream",
          "text": [
            "Cross-validation scores: [0.99313187 0.99313187 0.99519231 0.98832418 0.99038462 0.98832418\n",
            " 0.99175824 0.99519231 0.99381868 0.99519231]\n",
            "Mean cross-validation score: 0.992445054945055\n",
            "Cross-validation scores: [0.99038462 0.99038462 0.99358974 0.97596154 0.98237179 0.97435897\n",
            " 0.98878205 0.98878205 0.98237179 0.98076923]\n",
            "Mean cross-validation score: 0.9847756410256411\n"
          ]
        }
      ],
      "source": [
        "\n",
        "# Perform cross-validation\n",
        "cross_val_scores_train = cross_val_score(\n",
        "    DecisionTreeClassifier(),\n",
        "    X_train,\n",
        "    y_train,\n",
        "    cv=10\n",
        ")\n",
        "\n",
        "\n",
        "cross_val_scores_test = cross_val_score(\n",
        "    DecisionTreeClassifier(),\n",
        "    X_test,\n",
        "    y_test,\n",
        "    cv=10\n",
        ")\n",
        "\n",
        "\n",
        "print(f\"Cross-validation scores: {cross_val_scores_train}\")\n",
        "print(f\"Mean cross-validation score: {cross_val_scores_train.mean()}\")\n",
        "\n",
        "print(f\"Cross-validation scores: {cross_val_scores_test}\")\n",
        "print(f\"Mean cross-validation score: {cross_val_scores_test.mean()}\")"
      ]
    },
    {
      "cell_type": "markdown",
      "metadata": {
        "id": "tLG9TqTkrNXz"
      },
      "source": [
        "Cross-Validation + Regularization"
      ]
    },
    {
      "cell_type": "code",
      "execution_count": null,
      "metadata": {
        "colab": {
          "base_uri": "https://localhost:8080/"
        },
        "id": "IwP1Ddp9vg7p",
        "outputId": "e28819e6-ebb3-4796-f8f0-6ca85ec9beb2"
      },
      "outputs": [
        {
          "name": "stdout",
          "output_type": "stream",
          "text": [
            "Cross-validation scores: [0.79945055 0.81112637 0.80425824 0.79258242 0.80013736 0.80769231\n",
            " 0.80563187 0.8125     0.79739011 0.80288462]\n",
            "Mean cross-validation score: 0.8033653846153845\n",
            "Cross-validation scores: [0.79326923 0.7724359  0.76121795 0.78846154 0.7724359  0.80288462\n",
            " 0.81089744 0.79807692 0.82211538 0.78685897]\n",
            "Mean cross-validation score: 0.7908653846153847\n"
          ]
        }
      ],
      "source": [
        "# Perform cross-validation\n",
        "cross_val_scores_reg_train = cross_val_score(\n",
        "    DecisionTreeClassifier(max_depth=1),\n",
        "    X_train,\n",
        "    y_train,\n",
        "    cv=10\n",
        ")\n",
        "\n",
        "cross_val_scores_reg_test = cross_val_score(\n",
        "    DecisionTreeClassifier(max_depth=1),\n",
        "    X_test,\n",
        "    y_test,\n",
        "    cv=10\n",
        ")\n",
        "\n",
        "print(f\"Cross-validation scores: {cross_val_scores_reg_train}\")\n",
        "print(f\"Mean cross-validation score: {cross_val_scores_reg_train.mean()}\")\n",
        "\n",
        "print(f\"Cross-validation scores: {cross_val_scores_reg_test}\")\n",
        "print(f\"Mean cross-validation score: {cross_val_scores_reg_test.mean()}\")"
      ]
    },
    {
      "cell_type": "code",
      "execution_count": null,
      "metadata": {
        "colab": {
          "base_uri": "https://localhost:8080/"
        },
        "id": "TNalbvrt24lO",
        "outputId": "7e3e9133-c7a4-4ea9-f729-2dd309a94fc6"
      },
      "outputs": [
        {
          "name": "stdout",
          "output_type": "stream",
          "text": [
            "Classification Report for Training Set:\n",
            "              precision    recall  f1-score   support\n",
            "\n",
            "           0       1.00      0.60      0.75      7200\n",
            "           1       0.72      1.00      0.84      7360\n",
            "\n",
            "    accuracy                           0.80     14560\n",
            "   macro avg       0.86      0.80      0.79     14560\n",
            "weighted avg       0.86      0.80      0.80     14560\n",
            "\n",
            "Classification Report for Testing Set:\n",
            "              precision    recall  f1-score   support\n",
            "\n",
            "           0       1.00      0.59      0.74      3187\n",
            "           1       0.70      1.00      0.82      3053\n",
            "\n",
            "    accuracy                           0.79      6240\n",
            "   macro avg       0.85      0.80      0.78      6240\n",
            "weighted avg       0.85      0.79      0.78      6240\n",
            "\n"
          ]
        }
      ],
      "source": [
        "from sklearn.model_selection import cross_val_predict\n",
        "from sklearn.metrics import classification_report\n",
        "from sklearn.tree import DecisionTreeClassifier\n",
        "\n",
        "# Assuming X_train, y_train, X_test, and y_test are your training and testing data\n",
        "dt_model = DecisionTreeClassifier(max_depth=1)\n",
        "\n",
        "# Perform cross-validation and get predictions\n",
        "y_pred_train = cross_val_predict(dt_model, X_train, y_train, cv=10)\n",
        "y_pred_test = cross_val_predict(dt_model, X_test, y_test, cv=10)\n",
        "\n",
        "# Print classification report for training set\n",
        "print(\"Classification Report for Training Set:\")\n",
        "print(classification_report(y_train, y_pred_train))\n",
        "\n",
        "# Print classification report for testing set\n",
        "print(\"Classification Report for Testing Set:\")\n",
        "print(classification_report(y_test, y_pred_test))\n"
      ]
    },
    {
      "cell_type": "markdown",
      "metadata": {
        "id": "ykliXZucrbiw"
      },
      "source": [
        "Regularization"
      ]
    },
    {
      "cell_type": "code",
      "execution_count": null,
      "metadata": {
        "colab": {
          "base_uri": "https://localhost:8080/"
        },
        "id": "cCeFZiAPyAuF",
        "outputId": "87d0632f-6745-4d6d-c194-270e9da82fa3"
      },
      "outputs": [
        {
          "name": "stdout",
          "output_type": "stream",
          "text": [
            "Best Hyperparameters:  {'min_samples_split': 2, 'min_samples_leaf': 4, 'max_features': None, 'max_depth': 7}\n",
            "Mean Cross-validation Score:  0.947870879120879\n",
            "Training accuracy of Decision Tree is 0.9487637362637362\n",
            "testing accuracy of Decision Tree is 0.9394230769230769\n"
          ]
        }
      ],
      "source": [
        "from sklearn.model_selection import RandomizedSearchCV\n",
        "\n",
        "# Define the parameter grid for hyperparameter search\n",
        "param_grid = {\n",
        "    'max_depth': [3, 5, 7, None],\n",
        "    'min_samples_split': [2, 5, 10],\n",
        "    'min_samples_leaf': [1, 2, 4],\n",
        "    'max_features': ['sqrt', 'log2', None]\n",
        "}\n",
        "\n",
        "# Perform randomized search for hyperparameter tuning\n",
        "random_search = RandomizedSearchCV(\n",
        "    DecisionTreeClassifier(),\n",
        "    param_distributions=param_grid,\n",
        "    cv=5\n",
        ")\n",
        "random_search.fit(X_train, y_train)\n",
        "\n",
        "# Print best hyperparameters and mean cross-validation score\n",
        "print(\"Best Hyperparameters: \", random_search.best_params_)\n",
        "print(\"Mean Cross-validation Score: \", random_search.best_score_)\n",
        "\n",
        "# Train and evaluate the model with the best hyperparameters\n",
        "best_model_dt = random_search.best_estimator_\n",
        "train(best_model_dt, 'Decision Tree')\n"
      ]
    },
    {
      "cell_type": "code",
      "execution_count": null,
      "metadata": {
        "colab": {
          "base_uri": "https://localhost:8080/"
        },
        "id": "IC56cz_SuATB",
        "outputId": "9a74d673-eee6-4d3c-f7f0-6fab9ef8b50b"
      },
      "outputs": [
        {
          "name": "stdout",
          "output_type": "stream",
          "text": [
            "1\n",
            "Training accuracy of DT is 0.801510989010989\n",
            "testing accuracy of DT is 0.795352564102564\n",
            "2\n",
            "Training accuracy of DT is 0.9245192307692308\n",
            "testing accuracy of DT is 0.9145833333333333\n",
            "3\n",
            "Training accuracy of DT is 0.9316620879120879\n",
            "testing accuracy of DT is 0.9216346153846153\n",
            "4\n",
            "Training accuracy of DT is 0.9360576923076923\n",
            "testing accuracy of DT is 0.9261217948717949\n",
            "5\n",
            "Training accuracy of DT is 0.9410027472527472\n",
            "testing accuracy of DT is 0.9310897435897436\n",
            "6\n",
            "Training accuracy of DT is 0.9491758241758241\n",
            "testing accuracy of DT is 0.9384615384615385\n",
            "7\n",
            "Training accuracy of DT is 0.9526098901098901\n",
            "testing accuracy of DT is 0.9413461538461538\n",
            "8\n",
            "Training accuracy of DT is 0.9554258241758242\n",
            "testing accuracy of DT is 0.9439102564102564\n",
            "9\n",
            "Training accuracy of DT is 0.9580357142857143\n",
            "testing accuracy of DT is 0.9464743589743589\n",
            "10\n",
            "Training accuracy of DT is 0.9604395604395605\n",
            "testing accuracy of DT is 0.9477564102564102\n",
            "11\n",
            "Training accuracy of DT is 0.9626373626373627\n",
            "testing accuracy of DT is 0.9498397435897435\n",
            "12\n",
            "Training accuracy of DT is 0.9646291208791209\n",
            "testing accuracy of DT is 0.9527243589743589\n",
            "13\n",
            "Training accuracy of DT is 0.9664835164835165\n",
            "testing accuracy of DT is 0.9536858974358975\n",
            "14\n",
            "Training accuracy of DT is 0.9682692307692308\n",
            "testing accuracy of DT is 0.9572115384615385\n",
            "15\n",
            "Training accuracy of DT is 0.9699175824175824\n",
            "testing accuracy of DT is 0.9605769230769231\n",
            "16\n",
            "Training accuracy of DT is 0.9715659340659341\n",
            "testing accuracy of DT is 0.9620192307692308\n",
            "17\n",
            "Training accuracy of DT is 0.9731456043956044\n",
            "testing accuracy of DT is 0.9637820512820513\n",
            "18\n",
            "Training accuracy of DT is 0.9743818681318681\n",
            "testing accuracy of DT is 0.9647435897435898\n",
            "19\n",
            "Training accuracy of DT is 0.9755494505494505\n",
            "testing accuracy of DT is 0.9655448717948718\n",
            "20\n",
            "Training accuracy of DT is 0.9767170329670329\n",
            "testing accuracy of DT is 0.9663461538461539\n",
            "21\n",
            "Training accuracy of DT is 0.977815934065934\n",
            "testing accuracy of DT is 0.9671474358974359\n",
            "22\n",
            "Training accuracy of DT is 0.9789148351648351\n",
            "testing accuracy of DT is 0.9700320512820513\n",
            "23\n",
            "Training accuracy of DT is 0.9800137362637362\n",
            "testing accuracy of DT is 0.9735576923076923\n",
            "24\n",
            "Training accuracy of DT is 0.9811126373626373\n",
            "testing accuracy of DT is 0.975\n",
            "25\n",
            "Training accuracy of DT is 0.9822115384615384\n",
            "testing accuracy of DT is 0.9754807692307692\n",
            "26\n",
            "Training accuracy of DT is 0.9832417582417582\n",
            "testing accuracy of DT is 0.9772435897435897\n",
            "27\n",
            "Training accuracy of DT is 0.984271978021978\n",
            "testing accuracy of DT is 0.9772435897435897\n",
            "28\n",
            "Training accuracy of DT is 0.9851648351648352\n",
            "testing accuracy of DT is 0.9786858974358974\n",
            "29\n",
            "Training accuracy of DT is 0.9861263736263737\n",
            "testing accuracy of DT is 0.9807692307692307\n"
          ]
        }
      ],
      "source": [
        "for i in np.arange(1,30,1):\n",
        "  print(i)\n",
        "  train(DecisionTreeClassifier(max_depth=i), 'DT')\n"
      ]
    },
    {
      "cell_type": "code",
      "execution_count": null,
      "metadata": {
        "colab": {
          "base_uri": "https://localhost:8080/"
        },
        "id": "krllURYixiNL",
        "outputId": "b1ee7f98-79f1-4683-b53e-f29c6cac1023"
      },
      "outputs": [
        {
          "name": "stdout",
          "output_type": "stream",
          "text": [
            "Training accuracy of Decision Tree is 0.9252747252747253\n",
            "testing accuracy of Decision Tree is 0.9126602564102564\n"
          ]
        }
      ],
      "source": [
        "model_dt = DecisionTreeClassifier(max_depth=2, min_samples_split=20)\n",
        "train(model_dt, 'Decision Tree')"
      ]
    },
    {
      "cell_type": "code",
      "execution_count": null,
      "metadata": {
        "colab": {
          "base_uri": "https://localhost:8080/",
          "height": 449
        },
        "id": "HkjyuF1-wG2u",
        "outputId": "bd38abb6-0b00-4057-b71a-1df5ad397deb"
      },
      "outputs": [
        {
          "data": {
            "image/png": "[encoded data removed]",
            "text/plain": [
              "<Figure size 640x480 with 2 Axes>"
            ]
          },
          "metadata": {},
          "output_type": "display_data"
        }
      ],
      "source": [
        "conf_matrix(model_dt)"
      ]
    },
    {
      "cell_type": "code",
      "execution_count": null,
      "metadata": {
        "colab": {
          "base_uri": "https://localhost:8080/"
        },
        "id": "oBOxl0-1wJW2",
        "outputId": "831e0ecb-8965-4538-e34c-c08f8e807dd2"
      },
      "outputs": [
        {
          "name": "stdout",
          "output_type": "stream",
          "text": [
            "              precision    recall  f1-score   support\n",
            "\n",
            "           0       1.00      0.83      0.91      3187\n",
            "           1       0.85      1.00      0.92      3053\n",
            "\n",
            "    accuracy                           0.91      6240\n",
            "   macro avg       0.92      0.91      0.91      6240\n",
            "weighted avg       0.93      0.91      0.91      6240\n",
            "\n"
          ]
        }
      ],
      "source": [
        "class_report(model_dt)"
      ]
    },
    {
      "cell_type": "markdown",
      "metadata": {
        "id": "VH22WjuLwZOf"
      },
      "source": [
        "# Graph-DT"
      ]
    },
    {
      "cell_type": "code",
      "execution_count": null,
      "metadata": {
        "colab": {
          "base_uri": "https://localhost:8080/",
          "height": 564
        },
        "id": "1rRb9Gs-3y38",
        "outputId": "69b51891-d149-4436-dbf0-a811e9560aea"
      },
      "outputs": [
        {
          "data": {
            "image/png": "[encoded data removed]",
            "text/plain": [
              "<Figure size 1000x600 with 2 Axes>"
            ]
          },
          "metadata": {},
          "output_type": "display_data"
        }
      ],
      "source": [
        "import matplotlib.pyplot as plt\n",
        "import numpy as np\n",
        "\n",
        "# Extract the randomized search results\n",
        "results = random_search.cv_results_\n",
        "params = results['params']\n",
        "mean_scores = results['mean_test_score']\n",
        "\n",
        "# Extract the values of the hyperparameters\n",
        "max_depths = [param['max_depth'] for param in params]\n",
        "min_samples_splits = [param['min_samples_split'] for param in params]\n",
        "\n",
        "# Create a figure\n",
        "fig, ax = plt.subplots(figsize=(10, 6))\n",
        "\n",
        "# Plot the mean cross-validation scores\n",
        "sc = ax.scatter(max_depths, min_samples_splits, c=mean_scores, cmap='viridis')\n",
        "ax.set_xlabel('Max Depth')\n",
        "ax.set_ylabel('Min Samples Split')\n",
        "ax.set_title('Mean Cross-validation Scores')\n",
        "\n",
        "# Add colorbar\n",
        "cbar = plt.colorbar(sc)\n",
        "cbar.set_label('Mean CV Score')\n",
        "\n",
        "plt.show()\n"
      ]
    },
    {
      "cell_type": "code",
      "execution_count": null,
      "metadata": {
        "colab": {
          "base_uri": "https://localhost:8080/"
        },
        "id": "7ZxqjRNjlJpN",
        "outputId": "e66cf2f1-220a-4552-9cfb-60469d2d3d0b"
      },
      "outputs": [
        {
          "name": "stdout",
          "output_type": "stream",
          "text": [
            "Training accuracy of DesicionTreeClassifier is 1.0\n",
            "testing accuracy of DesicionTreeClassifier is 0.9931089743589744\n"
          ]
        }
      ],
      "source": [
        "# final model - without parameters\n",
        "tree_final_model=DecisionTreeClassifier()\n",
        "tree_final_model.fit(X_train,y_train)\n",
        "tree_training_acc = tree_final_model.score(X_train,y_train)\n",
        "tree_testing_acc = tree_final_model.score(X_test,y_test)\n",
        "print(f\"Training accuracy of DesicionTreeClassifier is {tree_training_acc}\")\n",
        "print(f\"testing accuracy of DesicionTreeClassifier is {tree_testing_acc}\")"
      ]
    },
    {
      "cell_type": "code",
      "execution_count": null,
      "metadata": {
        "colab": {
          "base_uri": "https://localhost:8080/"
        },
        "id": "J96cKNz8IQVe",
        "outputId": "064f0be0-bca5-4ee6-f989-7aa4fa4ffbe2"
      },
      "outputs": [
        {
          "name": "stdout",
          "output_type": "stream",
          "text": [
            "Training accuracy of DesicionTreeClassifier is 0.9969093406593407\n",
            "testing accuracy of DesicionTreeClassifier is 0.9926282051282052\n"
          ]
        }
      ],
      "source": [
        "# final model - with parameters\n",
        "tree_final_model=DecisionTreeClassifier(max_depth=58,random_state=42)\n",
        "tree_final_model.fit(X_train,y_train)\n",
        "tree_training_acc = tree_final_model.score(X_train,y_train)\n",
        "tree_testing_acc = tree_final_model.score(X_test,y_test)\n",
        "print(f\"Training accuracy of DesicionTreeClassifier is {tree_training_acc}\")\n",
        "print(f\"testing accuracy of DesicionTreeClassifier is {tree_testing_acc}\")"
      ]
    },
    {
      "cell_type": "code",
      "execution_count": null,
      "metadata": {
        "colab": {
          "base_uri": "https://localhost:8080/",
          "height": 449
        },
        "id": "PnNOxN9LItEj",
        "outputId": "4ceca3db-67e4-4478-9068-0e9ac95b2033"
      },
      "outputs": [
        {
          "data": {
            "image/png": "[encoded data removed]",
            "text/plain": [
              "<Figure size 640x480 with 2 Axes>"
            ]
          },
          "metadata": {},
          "output_type": "display_data"
        }
      ],
      "source": [
        "conf_matrix(tree_final_model)"
      ]
    },
    {
      "cell_type": "code",
      "execution_count": null,
      "metadata": {
        "colab": {
          "base_uri": "https://localhost:8080/"
        },
        "id": "brQY-qJAI0R4",
        "outputId": "22e33616-69dd-4540-8e26-ddc6220b6c7b"
      },
      "outputs": [
        {
          "name": "stdout",
          "output_type": "stream",
          "text": [
            "              precision    recall  f1-score   support\n",
            "\n",
            "           0       0.99      0.99      0.99      3118\n",
            "           1       0.99      0.99      0.99      3122\n",
            "\n",
            "    accuracy                           0.99      6240\n",
            "   macro avg       0.99      0.99      0.99      6240\n",
            "weighted avg       0.99      0.99      0.99      6240\n",
            "\n"
          ]
        }
      ],
      "source": [
        "class_report(tree_final_model)"
      ]
    },
    {
      "cell_type": "markdown",
      "metadata": {
        "id": "02mDjT98BnA5"
      },
      "source": [
        "# Naive Bayes"
      ]
    },
    {
      "cell_type": "markdown",
      "metadata": {
        "id": "8CW3hrj0w3O_"
      },
      "source": [
        "Normal Fit"
      ]
    },
    {
      "cell_type": "code",
      "execution_count": null,
      "metadata": {
        "id": "Ii9oE7rBJMNM"
      },
      "outputs": [],
      "source": [
        "Naive = naive_bayes.MultinomialNB()"
      ]
    },
    {
      "cell_type": "code",
      "execution_count": null,
      "metadata": {
        "colab": {
          "base_uri": "https://localhost:8080/"
        },
        "id": "3n6Qp9JsI4Fl",
        "outputId": "39f91186-1e3a-42b1-d167-afa83adf7470"
      },
      "outputs": [
        {
          "name": "stdout",
          "output_type": "stream",
          "text": [
            "Training accuracy of Naive Bayes is 0.9837912087912087\n",
            "testing accuracy of Naive Bayes is 0.9791666666666666\n"
          ]
        }
      ],
      "source": [
        "train(Naive, 'Naive Bayes')"
      ]
    },
    {
      "cell_type": "markdown",
      "metadata": {
        "id": "2TR8EyohxGdG"
      },
      "source": [
        "Cross-Validation"
      ]
    },
    {
      "cell_type": "code",
      "execution_count": null,
      "metadata": {
        "colab": {
          "base_uri": "https://localhost:8080/"
        },
        "id": "VyraJ58yxBmL",
        "outputId": "420cc707-b44b-4c6f-cb73-5952b790a1a6"
      },
      "outputs": [
        {
          "name": "stdout",
          "output_type": "stream",
          "text": [
            "Cross-validation scores: [0.97596154 0.97527473 0.98282967 0.97115385 0.97733516 0.97184066\n",
            " 0.97321429 0.97870879 0.9793956  0.97321429]\n",
            "Mean cross-validation score: 0.9758928571428571\n",
            "Cross-validation scores: [0.96314103 0.93910256 0.94551282 0.93429487 0.94230769 0.94070513\n",
            " 0.96153846 0.95673077 0.95512821 0.93910256]\n",
            "Mean cross-validation score: 0.9477564102564102\n"
          ]
        }
      ],
      "source": [
        "from sklearn.model_selection import cross_val_score\n",
        "\n",
        "cross_val_scores_naive_train= cross_val_score(naive_bayes.MultinomialNB(), X_train, y_train, cv=10)\n",
        "cross_val_scores_naive_test= cross_val_score(naive_bayes.MultinomialNB(), X_test, y_test, cv=10)\n",
        "\n",
        "print(f\"Cross-validation scores: {cross_val_scores_naive_train}\")\n",
        "print(f\"Mean cross-validation score: {cross_val_scores_naive_train.mean()}\")\n",
        "\n",
        "print(f\"Cross-validation scores: {cross_val_scores_naive_test}\")\n",
        "print(f\"Mean cross-validation score: {cross_val_scores_naive_test.mean()}\")"
      ]
    },
    {
      "cell_type": "markdown",
      "metadata": {
        "id": "5suUcB1lw4jX"
      },
      "source": [
        "Cross-Validation + Regularization"
      ]
    },
    {
      "cell_type": "code",
      "execution_count": null,
      "metadata": {
        "colab": {
          "base_uri": "https://localhost:8080/"
        },
        "id": "EaeNWL7zh0MH",
        "outputId": "b1cf77a8-bf7e-4c33-ad8d-d6c29d42e0ee"
      },
      "outputs": [
        {
          "name": "stdout",
          "output_type": "stream",
          "text": [
            "Cross-validation scores: [0.95412088 0.95769231]\n",
            "Mean cross-validation score: 0.9559065934065935\n",
            "Cross-validation scores: [0.8375     0.84583333]\n",
            "Mean cross-validation score: 0.8416666666666667\n"
          ]
        }
      ],
      "source": [
        "from sklearn.model_selection import cross_val_score\n",
        "\n",
        "cross_val_scores_naive_reg_train = cross_val_score(naive_bayes.MultinomialNB(alpha=40), X_train, y_train, cv=2)\n",
        "cross_val_scores_naive_reg_test = cross_val_score(naive_bayes.MultinomialNB(alpha=40), X_test, y_test, cv=2)\n",
        "\n",
        "\n",
        "print(f\"Cross-validation scores: {cross_val_scores_naive_reg_train}\")\n",
        "print(f\"Mean cross-validation score: {cross_val_scores_naive_reg_train.mean()}\")\n",
        "\n",
        "print(f\"Cross-validation scores: {cross_val_scores_naive_reg_test}\")\n",
        "print(f\"Mean cross-validation score: {cross_val_scores_naive_reg_test.mean()}\")"
      ]
    },
    {
      "cell_type": "markdown",
      "metadata": {
        "id": "K9Ahr6xoGR1B"
      },
      "source": [
        "FINAL"
      ]
    },
    {
      "cell_type": "code",
      "execution_count": null,
      "metadata": {
        "colab": {
          "base_uri": "https://localhost:8080/"
        },
        "id": "W6OPONzcGTR7",
        "outputId": "1f21d063-b844-42fb-a520-c6cec30a9159"
      },
      "outputs": [
        {
          "name": "stdout",
          "output_type": "stream",
          "text": [
            "Training accuracy of Naive is 0.9677197802197802\n",
            "testing accuracy of Naive is 0.9615384615384616\n",
            "Confusion Matrix (Training Set):\n",
            "[[6939  261]\n",
            " [ 381 6979]]\n",
            "\n",
            "Confusion Matrix (Test Set):\n",
            "[[3166   21]\n",
            " [ 967 2086]]\n",
            "\n",
            "Classification Report (Training Set):\n",
            "              precision    recall  f1-score   support\n",
            "\n",
            "           0       0.95      0.96      0.96      7200\n",
            "           1       0.96      0.95      0.96      7360\n",
            "\n",
            "    accuracy                           0.96     14560\n",
            "   macro avg       0.96      0.96      0.96     14560\n",
            "weighted avg       0.96      0.96      0.96     14560\n",
            "\n",
            "\n",
            "Classification Report (Test Set):\n",
            "              precision    recall  f1-score   support\n",
            "\n",
            "           0       0.77      0.99      0.87      3187\n",
            "           1       0.99      0.68      0.81      3053\n",
            "\n",
            "    accuracy                           0.84      6240\n",
            "   macro avg       0.88      0.84      0.84      6240\n",
            "weighted avg       0.88      0.84      0.84      6240\n",
            "\n"
          ]
        }
      ],
      "source": [
        "from sklearn.model_selection import cross_val_predict\n",
        "from sklearn.metrics import confusion_matrix, classification_report\n",
        "from sklearn.naive_bayes import MultinomialNB\n",
        "\n",
        "# Instantiate the MultinomialNB classifier\n",
        "naive_reg = MultinomialNB(alpha=40)\n",
        "\n",
        "# Perform cross-validation and get predicted values for training set\n",
        "y_train_pred = cross_val_predict(naive_reg, X_train, y_train, cv=2)\n",
        "\n",
        "# Perform cross-validation and get predicted values for test set\n",
        "y_test_pred = cross_val_predict(naive_reg, X_test, y_test, cv=2)\n",
        "\n",
        "train(naive_reg, 'Naive')\n",
        "\n",
        "# Calculate and print the confusion matrix for training set\n",
        "cm_train = confusion_matrix(y_train, y_train_pred)\n",
        "print(\"Confusion Matrix (Training Set):\")\n",
        "print(cm_train)\n",
        "\n",
        "# Calculate and print the confusion matrix for test set\n",
        "cm_test = confusion_matrix(y_test, y_test_pred)\n",
        "print(\"\\nConfusion Matrix (Test Set):\")\n",
        "print(cm_test)\n",
        "\n",
        "# Calculate and print the classification report for training set\n",
        "cr_train = classification_report(y_train, y_train_pred)\n",
        "print(\"\\nClassification Report (Training Set):\")\n",
        "print(cr_train)\n",
        "\n",
        "# Calculate and print the classification report for test set\n",
        "cr_test = classification_report(y_test, y_test_pred)\n",
        "print(\"\\nClassification Report (Test Set):\")\n",
        "print(cr_test)\n"
      ]
    },
    {
      "cell_type": "markdown",
      "metadata": {
        "id": "L2AsUtdSxKaa"
      },
      "source": [
        "Regularization"
      ]
    },
    {
      "cell_type": "code",
      "execution_count": null,
      "metadata": {
        "colab": {
          "base_uri": "https://localhost:8080/"
        },
        "id": "uvtQNIl5xKEK",
        "outputId": "33c132c9-0c98-41ae-bd5d-3f69244e2b3e"
      },
      "outputs": [
        {
          "name": "stdout",
          "output_type": "stream",
          "text": [
            "Training accuracy of Naive Bayes is 0.9854395604395605\n",
            "testing accuracy of Naive Bayes is 0.9804487179487179\n"
          ]
        }
      ],
      "source": [
        "Naive_reg = naive_bayes.MultinomialNB(alpha=0.1)\n",
        "train(Naive_reg, \"Naive Bayes\")"
      ]
    },
    {
      "cell_type": "code",
      "execution_count": null,
      "metadata": {
        "colab": {
          "base_uri": "https://localhost:8080/",
          "height": 640
        },
        "id": "FcDfLxTPz9GY",
        "outputId": "4ef4efa7-5223-4471-e956-486d95fc154f"
      },
      "outputs": [
        {
          "name": "stdout",
          "output_type": "stream",
          "text": [
            "Confusion matrix (Test data):\n",
            "<sklearn.metrics._plot.confusion_matrix.ConfusionMatrixDisplay object at 0x79537a891990>\n",
            "              precision    recall  f1-score   support\n",
            "\n",
            "           0       0.86      0.99      0.92      3187\n",
            "           1       0.99      0.84      0.91      3053\n",
            "\n",
            "    accuracy                           0.92      6240\n",
            "   macro avg       0.93      0.92      0.92      6240\n",
            "weighted avg       0.93      0.92      0.92      6240\n",
            "\n"
          ]
        },
        {
          "data": {
            "image/png": "[encoded data removed]",
            "text/plain": [
              "<Figure size 640x480 with 2 Axes>"
            ]
          },
          "metadata": {},
          "output_type": "display_data"
        }
      ],
      "source": [
        "#best model with cross-vlidation+regularization\n",
        "from sklearn.metrics import accuracy_score , ConfusionMatrixDisplay , classification_report , roc_curve\n",
        "\n",
        "from sklearn.model_selection import cross_val_predict\n",
        "naive_bayes_classifier = naive_bayes.MultinomialNB(alpha=40)\n",
        "#\n",
        "\n",
        "predicted_train = cross_val_predict(naive_bayes_classifier, X_train, y_train, cv=2)\n",
        "predicted_test = cross_val_predict(naive_bayes_classifier, X_test, y_test, cv=2)\n",
        "\n",
        "naive_bayes_classifier.fit(X_test, y_test)\n",
        "confusion_matrix_test=ConfusionMatrixDisplay.from_estimator(\n",
        "        naive_bayes_classifier,\n",
        "        X_test,\n",
        "        y_test\n",
        "    )\n",
        "# confusion_matrix_train = conf_matrix(y_train, predicted_train)\n",
        "# confusion_matrix_test = conf_matrix(y_test, predicted_test)\n",
        "\n",
        "# print(\"Confusion matrix (Training data):\")\n",
        "# print(confusion_matrix_train)\n",
        "print(\"Confusion matrix (Test data):\")\n",
        "print(confusion_matrix_test)\n",
        "class_report(naive_bayes_classifier)"
      ]
    },
    {
      "cell_type": "code",
      "execution_count": null,
      "metadata": {
        "id": "kUjVEtg-yplo"
      },
      "outputs": [],
      "source": [
        "for i in np.arange(1,40,2):\n",
        "  print(i)\n",
        "  train(naive_bayes.MultinomialNB(alpha=i,force_alpha=True), 'NB')\n"
      ]
    },
    {
      "cell_type": "code",
      "execution_count": null,
      "metadata": {
        "colab": {
          "base_uri": "https://localhost:8080/",
          "height": 328
        },
        "id": "doEC4iISJI1q",
        "outputId": "0bf364f6-8d7f-4fe1-a7e0-a1b779109b79"
      },
      "outputs": [
        {
          "ename": "ValueError",
          "evalue": "ignored",
          "output_type": "error",
          "traceback": [
            "\u001b[0;31m---------------------------------------------------------------------------\u001b[0m",
            "\u001b[0;31mValueError\u001b[0m                                Traceback (most recent call last)",
            "\u001b[0;32m<ipython-input-90-8e4f3dc716f9>\u001b[0m in \u001b[0;36m<cell line: 1>\u001b[0;34m()\u001b[0m\n\u001b[0;32m----> 1\u001b[0;31m \u001b[0mconf_matrix\u001b[0m\u001b[0;34m(\u001b[0m\u001b[0mcross_val_scores_naive_test\u001b[0m\u001b[0;34m)\u001b[0m\u001b[0;34m\u001b[0m\u001b[0;34m\u001b[0m\u001b[0m\n\u001b[0m",
            "\u001b[0;32m<ipython-input-19-8c0e7410a971>\u001b[0m in \u001b[0;36mconf_matrix\u001b[0;34m(model)\u001b[0m\n\u001b[1;32m      4\u001b[0m     \u001b[0mprint\u001b[0m\u001b[0;34m(\u001b[0m\u001b[0;34mf\"testing accuracy of {model_name} is {model.score(X_test,y_test)}\"\u001b[0m\u001b[0;34m)\u001b[0m\u001b[0;34m\u001b[0m\u001b[0;34m\u001b[0m\u001b[0m\n\u001b[1;32m      5\u001b[0m \u001b[0;32mdef\u001b[0m \u001b[0mconf_matrix\u001b[0m\u001b[0;34m(\u001b[0m\u001b[0mmodel\u001b[0m\u001b[0;34m)\u001b[0m\u001b[0;34m:\u001b[0m\u001b[0;34m\u001b[0m\u001b[0;34m\u001b[0m\u001b[0m\n\u001b[0;32m----> 6\u001b[0;31m     ConfusionMatrixDisplay.from_estimator(\n\u001b[0m\u001b[1;32m      7\u001b[0m         \u001b[0mmodel\u001b[0m\u001b[0;34m,\u001b[0m\u001b[0;34m\u001b[0m\u001b[0;34m\u001b[0m\u001b[0m\n\u001b[1;32m      8\u001b[0m         \u001b[0mX_test\u001b[0m\u001b[0;34m,\u001b[0m\u001b[0;34m\u001b[0m\u001b[0;34m\u001b[0m\u001b[0m\n",
            "\u001b[0;32m/usr/local/lib/python3.10/dist-packages/sklearn/metrics/_plot/confusion_matrix.py\u001b[0m in \u001b[0;36mfrom_estimator\u001b[0;34m(cls, estimator, X, y, labels, sample_weight, normalize, display_labels, include_values, xticks_rotation, values_format, cmap, ax, colorbar, im_kw, text_kw)\u001b[0m\n\u001b[1;32m    317\u001b[0m         \u001b[0mcheck_matplotlib_support\u001b[0m\u001b[0;34m(\u001b[0m\u001b[0mmethod_name\u001b[0m\u001b[0;34m)\u001b[0m\u001b[0;34m\u001b[0m\u001b[0;34m\u001b[0m\u001b[0m\n\u001b[1;32m    318\u001b[0m         \u001b[0;32mif\u001b[0m \u001b[0;32mnot\u001b[0m \u001b[0mis_classifier\u001b[0m\u001b[0;34m(\u001b[0m\u001b[0mestimator\u001b[0m\u001b[0;34m)\u001b[0m\u001b[0;34m:\u001b[0m\u001b[0;34m\u001b[0m\u001b[0;34m\u001b[0m\u001b[0m\n\u001b[0;32m--> 319\u001b[0;31m             \u001b[0;32mraise\u001b[0m \u001b[0mValueError\u001b[0m\u001b[0;34m(\u001b[0m\u001b[0;34mf\"{method_name} only supports classifiers\"\u001b[0m\u001b[0;34m)\u001b[0m\u001b[0;34m\u001b[0m\u001b[0;34m\u001b[0m\u001b[0m\n\u001b[0m\u001b[1;32m    320\u001b[0m         \u001b[0my_pred\u001b[0m \u001b[0;34m=\u001b[0m \u001b[0mestimator\u001b[0m\u001b[0;34m.\u001b[0m\u001b[0mpredict\u001b[0m\u001b[0;34m(\u001b[0m\u001b[0mX\u001b[0m\u001b[0;34m)\u001b[0m\u001b[0;34m\u001b[0m\u001b[0;34m\u001b[0m\u001b[0m\n\u001b[1;32m    321\u001b[0m \u001b[0;34m\u001b[0m\u001b[0m\n",
            "\u001b[0;31mValueError\u001b[0m: ConfusionMatrixDisplay.from_estimator only supports classifiers"
          ]
        }
      ],
      "source": [
        "conf_matrix(cross_val_scores_naive_test)"
      ]
    },
    {
      "cell_type": "code",
      "execution_count": null,
      "metadata": {
        "colab": {
          "base_uri": "https://localhost:8080/"
        },
        "id": "ZG41SeMnJSCK",
        "outputId": "282f5704-fa91-494d-e57d-b3e66d030961"
      },
      "outputs": [
        {
          "name": "stdout",
          "output_type": "stream",
          "text": [
            "              precision    recall  f1-score   support\n",
            "\n",
            "           0       0.86      0.99      0.92      3187\n",
            "           1       0.99      0.84      0.91      3053\n",
            "\n",
            "    accuracy                           0.92      6240\n",
            "   macro avg       0.93      0.92      0.92      6240\n",
            "weighted avg       0.93      0.92      0.92      6240\n",
            "\n"
          ]
        }
      ],
      "source": [
        "class_report(naive_bayes_classifier)"
      ]
    },
    {
      "cell_type": "markdown",
      "metadata": {
        "id": "kHtJs3w0Br4n"
      },
      "source": [
        "# Voting Classifier(SVM, DT, NB) - Hard Voting"
      ]
    },
    {
      "cell_type": "code",
      "execution_count": null,
      "metadata": {
        "colab": {
          "background_save": true,
          "base_uri": "https://localhost:8080/",
          "height": 109
        },
        "id": "G-5ZcI16LNE6",
        "outputId": "d24947cd-bc95-4626-8c11-d78778b1cf19"
      },
      "outputs": [
        {
          "data": {
            "text/html": [
              "<style>#sk-container-id-2 {color: black;background-color: white;}#sk-container-id-2 pre{padding: 0;}#sk-container-id-2 div.sk-toggleable {background-color: white;}#sk-container-id-2 label.sk-toggleable__label {cursor: pointer;display: block;width: 100%;margin-bottom: 0;padding: 0.3em;box-sizing: border-box;text-align: center;}#sk-container-id-2 label.sk-toggleable__label-arrow:before {content: \"▸\";float: left;margin-right: 0.25em;color: #696969;}#sk-container-id-2 label.sk-toggleable__label-arrow:hover:before {color: black;}#sk-container-id-2 div.sk-estimator:hover label.sk-toggleable__label-arrow:before {color: black;}#sk-container-id-2 div.sk-toggleable__content {max-height: 0;max-width: 0;overflow: hidden;text-align: left;background-color: #f0f8ff;}#sk-container-id-2 div.sk-toggleable__content pre {margin: 0.2em;color: black;border-radius: 0.25em;background-color: #f0f8ff;}#sk-container-id-2 input.sk-toggleable__control:checked~div.sk-toggleable__content {max-height: 200px;max-width: 100%;overflow: auto;}#sk-container-id-2 input.sk-toggleable__control:checked~label.sk-toggleable__label-arrow:before {content: \"▾\";}#sk-container-id-2 div.sk-estimator input.sk-toggleable__control:checked~label.sk-toggleable__label {background-color: #d4ebff;}#sk-container-id-2 div.sk-label input.sk-toggleable__control:checked~label.sk-toggleable__label {background-color: #d4ebff;}#sk-container-id-2 input.sk-hidden--visually {border: 0;clip: rect(1px 1px 1px 1px);clip: rect(1px, 1px, 1px, 1px);height: 1px;margin: -1px;overflow: hidden;padding: 0;position: absolute;width: 1px;}#sk-container-id-2 div.sk-estimator {font-family: monospace;background-color: #f0f8ff;border: 1px dotted black;border-radius: 0.25em;box-sizing: border-box;margin-bottom: 0.5em;}#sk-container-id-2 div.sk-estimator:hover {background-color: #d4ebff;}#sk-container-id-2 div.sk-parallel-item::after {content: \"\";width: 100%;border-bottom: 1px solid gray;flex-grow: 1;}#sk-container-id-2 div.sk-label:hover label.sk-toggleable__label {background-color: #d4ebff;}#sk-container-id-2 div.sk-serial::before {content: \"\";position: absolute;border-left: 1px solid gray;box-sizing: border-box;top: 0;bottom: 0;left: 50%;z-index: 0;}#sk-container-id-2 div.sk-serial {display: flex;flex-direction: column;align-items: center;background-color: white;padding-right: 0.2em;padding-left: 0.2em;position: relative;}#sk-container-id-2 div.sk-item {position: relative;z-index: 1;}#sk-container-id-2 div.sk-parallel {display: flex;align-items: stretch;justify-content: center;background-color: white;position: relative;}#sk-container-id-2 div.sk-item::before, #sk-container-id-2 div.sk-parallel-item::before {content: \"\";position: absolute;border-left: 1px solid gray;box-sizing: border-box;top: 0;bottom: 0;left: 50%;z-index: -1;}#sk-container-id-2 div.sk-parallel-item {display: flex;flex-direction: column;z-index: 1;position: relative;background-color: white;}#sk-container-id-2 div.sk-parallel-item:first-child::after {align-self: flex-end;width: 50%;}#sk-container-id-2 div.sk-parallel-item:last-child::after {align-self: flex-start;width: 50%;}#sk-container-id-2 div.sk-parallel-item:only-child::after {width: 0;}#sk-container-id-2 div.sk-dashed-wrapped {border: 1px dashed gray;margin: 0 0.4em 0.5em 0.4em;box-sizing: border-box;padding-bottom: 0.4em;background-color: white;}#sk-container-id-2 div.sk-label label {font-family: monospace;font-weight: bold;display: inline-block;line-height: 1.2em;}#sk-container-id-2 div.sk-label-container {text-align: center;}#sk-container-id-2 div.sk-container {/* jupyter's `normalize.less` sets `[hidden] { display: none; }` but bootstrap.min.css set `[hidden] { display: none !important; }` so we also need the `!important` here to be able to override the default hidden behavior on the sphinx rendered scikit-learn.org. See: https://github.com/scikit-learn/scikit-learn/issues/21755 */display: inline-block !important;position: relative;}#sk-container-id-2 div.sk-text-repr-fallback {display: none;}</style><div id=\"sk-container-id-2\" class=\"sk-top-container\"><div class=\"sk-text-repr-fallback\"><pre>VotingClassifier(estimators=[(&#x27;MultinomialNB&#x27;, MultinomialNB(alpha=40)),\n",
              "                             (&#x27;SVM&#x27;, SVC(C=0.03, probability=True)),\n",
              "                             (&#x27;decision tree&#x27;,\n",
              "                              DecisionTreeClassifier(max_depth=2,\n",
              "                                                     min_samples_split=20))],\n",
              "                 voting=&#x27;soft&#x27;, weights=[2, 1, 1])</pre><b>In a Jupyter environment, please rerun this cell to show the HTML representation or trust the notebook. <br />On GitHub, the HTML representation is unable to render, please try loading this page with nbviewer.org.</b></div><div class=\"sk-container\" hidden><div class=\"sk-item sk-dashed-wrapped\"><div class=\"sk-label-container\"><div class=\"sk-label sk-toggleable\"><input class=\"sk-toggleable__control sk-hidden--visually\" id=\"sk-estimator-id-5\" type=\"checkbox\" ><label for=\"sk-estimator-id-5\" class=\"sk-toggleable__label sk-toggleable__label-arrow\">VotingClassifier</label><div class=\"sk-toggleable__content\"><pre>VotingClassifier(estimators=[(&#x27;MultinomialNB&#x27;, MultinomialNB(alpha=40)),\n",
              "                             (&#x27;SVM&#x27;, SVC(C=0.03, probability=True)),\n",
              "                             (&#x27;decision tree&#x27;,\n",
              "                              DecisionTreeClassifier(max_depth=2,\n",
              "                                                     min_samples_split=20))],\n",
              "                 voting=&#x27;soft&#x27;, weights=[2, 1, 1])</pre></div></div></div><div class=\"sk-parallel\"><div class=\"sk-parallel-item\"><div class=\"sk-item\"><div class=\"sk-label-container\"><div class=\"sk-label sk-toggleable\"><label>MultinomialNB</label></div></div><div class=\"sk-serial\"><div class=\"sk-item\"><div class=\"sk-estimator sk-toggleable\"><input class=\"sk-toggleable__control sk-hidden--visually\" id=\"sk-estimator-id-6\" type=\"checkbox\" ><label for=\"sk-estimator-id-6\" class=\"sk-toggleable__label sk-toggleable__label-arrow\">MultinomialNB</label><div class=\"sk-toggleable__content\"><pre>MultinomialNB(alpha=40)</pre></div></div></div></div></div></div><div class=\"sk-parallel-item\"><div class=\"sk-item\"><div class=\"sk-label-container\"><div class=\"sk-label sk-toggleable\"><label>SVM</label></div></div><div class=\"sk-serial\"><div class=\"sk-item\"><div class=\"sk-estimator sk-toggleable\"><input class=\"sk-toggleable__control sk-hidden--visually\" id=\"sk-estimator-id-7\" type=\"checkbox\" ><label for=\"sk-estimator-id-7\" class=\"sk-toggleable__label sk-toggleable__label-arrow\">SVC</label><div class=\"sk-toggleable__content\"><pre>SVC(C=0.03, probability=True)</pre></div></div></div></div></div></div><div class=\"sk-parallel-item\"><div class=\"sk-item\"><div class=\"sk-label-container\"><div class=\"sk-label sk-toggleable\"><label>decision tree</label></div></div><div class=\"sk-serial\"><div class=\"sk-item\"><div class=\"sk-estimator sk-toggleable\"><input class=\"sk-toggleable__control sk-hidden--visually\" id=\"sk-estimator-id-8\" type=\"checkbox\" ><label for=\"sk-estimator-id-8\" class=\"sk-toggleable__label sk-toggleable__label-arrow\">DecisionTreeClassifier</label><div class=\"sk-toggleable__content\"><pre>DecisionTreeClassifier(max_depth=2, min_samples_split=20)</pre></div></div></div></div></div></div></div></div></div></div>"
            ],
            "text/plain": [
              "VotingClassifier(estimators=[('MultinomialNB', MultinomialNB(alpha=40)),\n",
              "                             ('SVM', SVC(C=0.03, probability=True)),\n",
              "                             ('decision tree',\n",
              "                              DecisionTreeClassifier(max_depth=2,\n",
              "                                                     min_samples_split=20))],\n",
              "                 voting='soft', weights=[2, 1, 1])"
            ]
          },
          "execution_count": 51,
          "metadata": {},
          "output_type": "execute_result"
        }
      ],
      "source": [
        "VotingClassifiers = VotingClassifier(estimators=[('MultinomialNB',naive_reg), ('SVM',svc_best), ('decision tree',model_dt)], voting='hard',weights=[2,1,1])\n",
        "VotingClassifiers.fit(X_train, y_train)"
      ]
    },
    {
      "cell_type": "code",
      "execution_count": null,
      "metadata": {
        "colab": {
          "background_save": true,
          "base_uri": "https://localhost:8080/"
        },
        "id": "Crekoa7OLWbs",
        "outputId": "3b60ecdd-d88a-471b-a522-39b56490d27a"
      },
      "outputs": [
        {
          "data": {
            "text/plain": [
              "(0.9620879120879121,)"
            ]
          },
          "execution_count": 52,
          "metadata": {},
          "output_type": "execute_result"
        }
      ],
      "source": [
        "VotingClassifiers.score(X_train,y_train),"
      ]
    },
    {
      "cell_type": "code",
      "execution_count": null,
      "metadata": {
        "id": "BnJA3nsUPcRw"
      },
      "outputs": [],
      "source": [
        "VotingClassifiers.score(X_test,y_test)"
      ]
    },
    {
      "cell_type": "code",
      "execution_count": null,
      "metadata": {
        "id": "n4AYyhv_GOmA"
      },
      "outputs": [],
      "source": [
        "from sklearn.metrics import confusion_matrix\n",
        "y_pred_test=VotingClassifiers.predict(X_test)\n",
        "confusion_matrix_test = confusion_matrix(y_test, y_pred_test)\n",
        "print(\"Confusion matrix (Test data):\")\n",
        "print(confusion_matrix_test)"
      ]
    },
    {
      "cell_type": "code",
      "execution_count": null,
      "metadata": {
        "colab": {
          "background_save": true
        },
        "id": "hmwmNAnFIVId",
        "outputId": "cbffae7c-3fdf-49ac-fbc6-08dd31dccf71"
      },
      "outputs": [
        {
          "data": {
            "text/plain": [
              "<sklearn.metrics._plot.confusion_matrix.ConfusionMatrixDisplay at 0x79536f42f430>"
            ]
          },
          "execution_count": 49,
          "metadata": {},
          "output_type": "execute_result"
        },
        {
          "data": {
            "image/png": "[encoded data removed]",
            "text/plain": [
              "<Figure size 640x480 with 2 Axes>"
            ]
          },
          "metadata": {},
          "output_type": "display_data"
        }
      ],
      "source": [
        "disp = ConfusionMatrixDisplay(confusion_matrix=confusion_matrix_test)\n",
        "disp.plot()"
      ]
    },
    {
      "cell_type": "code",
      "execution_count": null,
      "metadata": {
        "colab": {
          "background_save": true
        },
        "id": "mfx90bLLHqvx",
        "outputId": "8e1cdc1d-a07e-425a-b097-2459f3e6d888"
      },
      "outputs": [
        {
          "name": "stdout",
          "output_type": "stream",
          "text": [
            "              precision    recall  f1-score   support\n",
            "\n",
            "           0       0.96      0.96      0.96      3187\n",
            "           1       0.96      0.96      0.96      3053\n",
            "\n",
            "    accuracy                           0.96      6240\n",
            "   macro avg       0.96      0.96      0.96      6240\n",
            "weighted avg       0.96      0.96      0.96      6240\n",
            "\n"
          ]
        }
      ],
      "source": [
        "class_report=(classification_report(\n",
        "        y_test,\n",
        "        y_pred_test\n",
        "    ))\n",
        "print(class_report)"
      ]
    },
    {
      "cell_type": "markdown",
      "metadata": {
        "id": "W3Xh1EcnF806"
      },
      "source": [
        "# AdaBoost Classifier"
      ]
    },
    {
      "cell_type": "code",
      "execution_count": null,
      "metadata": {
        "id": "p7h6itkqHD6f"
      },
      "outputs": [],
      "source": [
        "from sklearn.ensemble import AdaBoostClassifier"
      ]
    },
    {
      "cell_type": "code",
      "execution_count": null,
      "metadata": {
        "colab": {
          "base_uri": "https://localhost:8080/",
          "height": 408
        },
        "id": "Fl2vI_7yPeR0",
        "outputId": "cc0f3b84-090a-401e-a4a0-224c06490134"
      },
      "outputs": [
        {
          "output_type": "error",
          "ename": "KeyboardInterrupt",
          "evalue": "ignored",
          "traceback": [
            "\u001b[0;31m---------------------------------------------------------------------------\u001b[0m",
            "\u001b[0;31mKeyboardInterrupt\u001b[0m                         Traceback (most recent call last)",
            "\u001b[0;32m<ipython-input-56-0eae1d57f8c3>\u001b[0m in \u001b[0;36m<cell line: 2>\u001b[0;34m()\u001b[0m\n\u001b[1;32m      1\u001b[0m \u001b[0mAdaBoost\u001b[0m \u001b[0;34m=\u001b[0m \u001b[0mAdaBoostClassifier\u001b[0m\u001b[0;34m(\u001b[0m\u001b[0mlearning_rate\u001b[0m\u001b[0;34m=\u001b[0m\u001b[0;36m0.1\u001b[0m\u001b[0;34m,\u001b[0m\u001b[0mestimator\u001b[0m \u001b[0;34m=\u001b[0m \u001b[0mVotingClassifiers\u001b[0m\u001b[0;34m,\u001b[0m \u001b[0malgorithm\u001b[0m\u001b[0;34m=\u001b[0m\u001b[0;34m'SAMME'\u001b[0m\u001b[0;34m)\u001b[0m\u001b[0;34m\u001b[0m\u001b[0;34m\u001b[0m\u001b[0m\n\u001b[0;32m----> 2\u001b[0;31m \u001b[0mAdaBoost\u001b[0m\u001b[0;34m.\u001b[0m\u001b[0mfit\u001b[0m\u001b[0;34m(\u001b[0m\u001b[0mX_train\u001b[0m\u001b[0;34m,\u001b[0m \u001b[0my_train\u001b[0m\u001b[0;34m)\u001b[0m\u001b[0;34m\u001b[0m\u001b[0;34m\u001b[0m\u001b[0m\n\u001b[0m\u001b[1;32m      3\u001b[0m \u001b[0mprint\u001b[0m\u001b[0;34m(\u001b[0m\u001b[0;34m'Training score:'\u001b[0m\u001b[0;34m,\u001b[0m\u001b[0mAdaBoost\u001b[0m\u001b[0;34m.\u001b[0m\u001b[0mscore\u001b[0m\u001b[0;34m(\u001b[0m\u001b[0mX_train\u001b[0m\u001b[0;34m,\u001b[0m \u001b[0my_train\u001b[0m\u001b[0;34m)\u001b[0m\u001b[0;34m)\u001b[0m\u001b[0;34m\u001b[0m\u001b[0;34m\u001b[0m\u001b[0m\n\u001b[1;32m      4\u001b[0m \u001b[0mprint\u001b[0m\u001b[0;34m(\u001b[0m\u001b[0;34m'Testing score:'\u001b[0m\u001b[0;34m,\u001b[0m\u001b[0mAdaBoost\u001b[0m\u001b[0;34m.\u001b[0m\u001b[0mscore\u001b[0m\u001b[0;34m(\u001b[0m\u001b[0mX_test\u001b[0m\u001b[0;34m,\u001b[0m\u001b[0my_test\u001b[0m\u001b[0;34m)\u001b[0m\u001b[0;34m)\u001b[0m\u001b[0;34m\u001b[0m\u001b[0;34m\u001b[0m\u001b[0m\n",
            "\u001b[0;32m/usr/local/lib/python3.10/dist-packages/sklearn/ensemble/_weight_boosting.py\u001b[0m in \u001b[0;36mfit\u001b[0;34m(self, X, y, sample_weight)\u001b[0m\n\u001b[1;32m    160\u001b[0m \u001b[0;34m\u001b[0m\u001b[0m\n\u001b[1;32m    161\u001b[0m             \u001b[0;31m# Boosting step\u001b[0m\u001b[0;34m\u001b[0m\u001b[0;34m\u001b[0m\u001b[0m\n\u001b[0;32m--> 162\u001b[0;31m             sample_weight, estimator_weight, estimator_error = self._boost(\n\u001b[0m\u001b[1;32m    163\u001b[0m                 \u001b[0miboost\u001b[0m\u001b[0;34m,\u001b[0m \u001b[0mX\u001b[0m\u001b[0;34m,\u001b[0m \u001b[0my\u001b[0m\u001b[0;34m,\u001b[0m \u001b[0msample_weight\u001b[0m\u001b[0;34m,\u001b[0m \u001b[0mrandom_state\u001b[0m\u001b[0;34m\u001b[0m\u001b[0;34m\u001b[0m\u001b[0m\n\u001b[1;32m    164\u001b[0m             )\n",
            "\u001b[0;32m/usr/local/lib/python3.10/dist-packages/sklearn/ensemble/_weight_boosting.py\u001b[0m in \u001b[0;36m_boost\u001b[0;34m(self, iboost, X, y, sample_weight, random_state)\u001b[0m\n\u001b[1;32m    570\u001b[0m \u001b[0;34m\u001b[0m\u001b[0m\n\u001b[1;32m    571\u001b[0m         \u001b[0;32melse\u001b[0m\u001b[0;34m:\u001b[0m  \u001b[0;31m# elif self.algorithm == \"SAMME\":\u001b[0m\u001b[0;34m\u001b[0m\u001b[0;34m\u001b[0m\u001b[0m\n\u001b[0;32m--> 572\u001b[0;31m             \u001b[0;32mreturn\u001b[0m \u001b[0mself\u001b[0m\u001b[0;34m.\u001b[0m\u001b[0m_boost_discrete\u001b[0m\u001b[0;34m(\u001b[0m\u001b[0miboost\u001b[0m\u001b[0;34m,\u001b[0m \u001b[0mX\u001b[0m\u001b[0;34m,\u001b[0m \u001b[0my\u001b[0m\u001b[0;34m,\u001b[0m \u001b[0msample_weight\u001b[0m\u001b[0;34m,\u001b[0m \u001b[0mrandom_state\u001b[0m\u001b[0;34m)\u001b[0m\u001b[0;34m\u001b[0m\u001b[0;34m\u001b[0m\u001b[0m\n\u001b[0m\u001b[1;32m    573\u001b[0m \u001b[0;34m\u001b[0m\u001b[0m\n\u001b[1;32m    574\u001b[0m     \u001b[0;32mdef\u001b[0m \u001b[0m_boost_real\u001b[0m\u001b[0;34m(\u001b[0m\u001b[0mself\u001b[0m\u001b[0;34m,\u001b[0m \u001b[0miboost\u001b[0m\u001b[0;34m,\u001b[0m \u001b[0mX\u001b[0m\u001b[0;34m,\u001b[0m \u001b[0my\u001b[0m\u001b[0;34m,\u001b[0m \u001b[0msample_weight\u001b[0m\u001b[0;34m,\u001b[0m \u001b[0mrandom_state\u001b[0m\u001b[0;34m)\u001b[0m\u001b[0;34m:\u001b[0m\u001b[0;34m\u001b[0m\u001b[0;34m\u001b[0m\u001b[0m\n",
            "\u001b[0;32m/usr/local/lib/python3.10/dist-packages/sklearn/ensemble/_weight_boosting.py\u001b[0m in \u001b[0;36m_boost_discrete\u001b[0;34m(self, iboost, X, y, sample_weight, random_state)\u001b[0m\n\u001b[1;32m    635\u001b[0m         \u001b[0mestimator\u001b[0m \u001b[0;34m=\u001b[0m \u001b[0mself\u001b[0m\u001b[0;34m.\u001b[0m\u001b[0m_make_estimator\u001b[0m\u001b[0;34m(\u001b[0m\u001b[0mrandom_state\u001b[0m\u001b[0;34m=\u001b[0m\u001b[0mrandom_state\u001b[0m\u001b[0;34m)\u001b[0m\u001b[0;34m\u001b[0m\u001b[0;34m\u001b[0m\u001b[0m\n\u001b[1;32m    636\u001b[0m \u001b[0;34m\u001b[0m\u001b[0m\n\u001b[0;32m--> 637\u001b[0;31m         \u001b[0mestimator\u001b[0m\u001b[0;34m.\u001b[0m\u001b[0mfit\u001b[0m\u001b[0;34m(\u001b[0m\u001b[0mX\u001b[0m\u001b[0;34m,\u001b[0m \u001b[0my\u001b[0m\u001b[0;34m,\u001b[0m \u001b[0msample_weight\u001b[0m\u001b[0;34m=\u001b[0m\u001b[0msample_weight\u001b[0m\u001b[0;34m)\u001b[0m\u001b[0;34m\u001b[0m\u001b[0;34m\u001b[0m\u001b[0m\n\u001b[0m\u001b[1;32m    638\u001b[0m \u001b[0;34m\u001b[0m\u001b[0m\n\u001b[1;32m    639\u001b[0m         \u001b[0my_predict\u001b[0m \u001b[0;34m=\u001b[0m \u001b[0mestimator\u001b[0m\u001b[0;34m.\u001b[0m\u001b[0mpredict\u001b[0m\u001b[0;34m(\u001b[0m\u001b[0mX\u001b[0m\u001b[0;34m)\u001b[0m\u001b[0;34m\u001b[0m\u001b[0;34m\u001b[0m\u001b[0m\n",
            "\u001b[0;32m/usr/local/lib/python3.10/dist-packages/sklearn/ensemble/_voting.py\u001b[0m in \u001b[0;36mfit\u001b[0;34m(self, X, y, sample_weight)\u001b[0m\n\u001b[1;32m    344\u001b[0m         \u001b[0mtransformed_y\u001b[0m \u001b[0;34m=\u001b[0m \u001b[0mself\u001b[0m\u001b[0;34m.\u001b[0m\u001b[0mle_\u001b[0m\u001b[0;34m.\u001b[0m\u001b[0mtransform\u001b[0m\u001b[0;34m(\u001b[0m\u001b[0my\u001b[0m\u001b[0;34m)\u001b[0m\u001b[0;34m\u001b[0m\u001b[0;34m\u001b[0m\u001b[0m\n\u001b[1;32m    345\u001b[0m \u001b[0;34m\u001b[0m\u001b[0m\n\u001b[0;32m--> 346\u001b[0;31m         \u001b[0;32mreturn\u001b[0m \u001b[0msuper\u001b[0m\u001b[0;34m(\u001b[0m\u001b[0;34m)\u001b[0m\u001b[0;34m.\u001b[0m\u001b[0mfit\u001b[0m\u001b[0;34m(\u001b[0m\u001b[0mX\u001b[0m\u001b[0;34m,\u001b[0m \u001b[0mtransformed_y\u001b[0m\u001b[0;34m,\u001b[0m \u001b[0msample_weight\u001b[0m\u001b[0;34m)\u001b[0m\u001b[0;34m\u001b[0m\u001b[0;34m\u001b[0m\u001b[0m\n\u001b[0m\u001b[1;32m    347\u001b[0m \u001b[0;34m\u001b[0m\u001b[0m\n\u001b[1;32m    348\u001b[0m     \u001b[0;32mdef\u001b[0m \u001b[0mpredict\u001b[0m\u001b[0;34m(\u001b[0m\u001b[0mself\u001b[0m\u001b[0;34m,\u001b[0m \u001b[0mX\u001b[0m\u001b[0;34m)\u001b[0m\u001b[0;34m:\u001b[0m\u001b[0;34m\u001b[0m\u001b[0;34m\u001b[0m\u001b[0m\n",
            "\u001b[0;32m/usr/local/lib/python3.10/dist-packages/sklearn/ensemble/_voting.py\u001b[0m in \u001b[0;36mfit\u001b[0;34m(self, X, y, sample_weight)\u001b[0m\n\u001b[1;32m     79\u001b[0m             )\n\u001b[1;32m     80\u001b[0m \u001b[0;34m\u001b[0m\u001b[0m\n\u001b[0;32m---> 81\u001b[0;31m         self.estimators_ = Parallel(n_jobs=self.n_jobs)(\n\u001b[0m\u001b[1;32m     82\u001b[0m             delayed(_fit_single_estimator)(\n\u001b[1;32m     83\u001b[0m                 \u001b[0mclone\u001b[0m\u001b[0;34m(\u001b[0m\u001b[0mclf\u001b[0m\u001b[0;34m)\u001b[0m\u001b[0;34m,\u001b[0m\u001b[0;34m\u001b[0m\u001b[0;34m\u001b[0m\u001b[0m\n",
            "\u001b[0;32m/usr/local/lib/python3.10/dist-packages/sklearn/utils/parallel.py\u001b[0m in \u001b[0;36m__call__\u001b[0;34m(self, iterable)\u001b[0m\n\u001b[1;32m     61\u001b[0m             \u001b[0;32mfor\u001b[0m \u001b[0mdelayed_func\u001b[0m\u001b[0;34m,\u001b[0m \u001b[0margs\u001b[0m\u001b[0;34m,\u001b[0m \u001b[0mkwargs\u001b[0m \u001b[0;32min\u001b[0m \u001b[0miterable\u001b[0m\u001b[0;34m\u001b[0m\u001b[0;34m\u001b[0m\u001b[0m\n\u001b[1;32m     62\u001b[0m         )\n\u001b[0;32m---> 63\u001b[0;31m         \u001b[0;32mreturn\u001b[0m \u001b[0msuper\u001b[0m\u001b[0;34m(\u001b[0m\u001b[0;34m)\u001b[0m\u001b[0;34m.\u001b[0m\u001b[0m__call__\u001b[0m\u001b[0;34m(\u001b[0m\u001b[0miterable_with_config\u001b[0m\u001b[0;34m)\u001b[0m\u001b[0;34m\u001b[0m\u001b[0;34m\u001b[0m\u001b[0m\n\u001b[0m\u001b[1;32m     64\u001b[0m \u001b[0;34m\u001b[0m\u001b[0m\n\u001b[1;32m     65\u001b[0m \u001b[0;34m\u001b[0m\u001b[0m\n",
            "\u001b[0;32m/usr/local/lib/python3.10/dist-packages/joblib/parallel.py\u001b[0m in \u001b[0;36m__call__\u001b[0;34m(self, iterable)\u001b[0m\n\u001b[1;32m   1861\u001b[0m             \u001b[0moutput\u001b[0m \u001b[0;34m=\u001b[0m \u001b[0mself\u001b[0m\u001b[0;34m.\u001b[0m\u001b[0m_get_sequential_output\u001b[0m\u001b[0;34m(\u001b[0m\u001b[0miterable\u001b[0m\u001b[0;34m)\u001b[0m\u001b[0;34m\u001b[0m\u001b[0;34m\u001b[0m\u001b[0m\n\u001b[1;32m   1862\u001b[0m             \u001b[0mnext\u001b[0m\u001b[0;34m(\u001b[0m\u001b[0moutput\u001b[0m\u001b[0;34m)\u001b[0m\u001b[0;34m\u001b[0m\u001b[0;34m\u001b[0m\u001b[0m\n\u001b[0;32m-> 1863\u001b[0;31m             \u001b[0;32mreturn\u001b[0m \u001b[0moutput\u001b[0m \u001b[0;32mif\u001b[0m \u001b[0mself\u001b[0m\u001b[0;34m.\u001b[0m\u001b[0mreturn_generator\u001b[0m \u001b[0;32melse\u001b[0m \u001b[0mlist\u001b[0m\u001b[0;34m(\u001b[0m\u001b[0moutput\u001b[0m\u001b[0;34m)\u001b[0m\u001b[0;34m\u001b[0m\u001b[0;34m\u001b[0m\u001b[0m\n\u001b[0m\u001b[1;32m   1864\u001b[0m \u001b[0;34m\u001b[0m\u001b[0m\n\u001b[1;32m   1865\u001b[0m         \u001b[0;31m# Let's create an ID that uniquely identifies the current call. If the\u001b[0m\u001b[0;34m\u001b[0m\u001b[0;34m\u001b[0m\u001b[0m\n",
            "\u001b[0;32m/usr/local/lib/python3.10/dist-packages/joblib/parallel.py\u001b[0m in \u001b[0;36m_get_sequential_output\u001b[0;34m(self, iterable)\u001b[0m\n\u001b[1;32m   1790\u001b[0m                 \u001b[0mself\u001b[0m\u001b[0;34m.\u001b[0m\u001b[0mn_dispatched_batches\u001b[0m \u001b[0;34m+=\u001b[0m \u001b[0;36m1\u001b[0m\u001b[0;34m\u001b[0m\u001b[0;34m\u001b[0m\u001b[0m\n\u001b[1;32m   1791\u001b[0m                 \u001b[0mself\u001b[0m\u001b[0;34m.\u001b[0m\u001b[0mn_dispatched_tasks\u001b[0m \u001b[0;34m+=\u001b[0m \u001b[0;36m1\u001b[0m\u001b[0;34m\u001b[0m\u001b[0;34m\u001b[0m\u001b[0m\n\u001b[0;32m-> 1792\u001b[0;31m                 \u001b[0mres\u001b[0m \u001b[0;34m=\u001b[0m \u001b[0mfunc\u001b[0m\u001b[0;34m(\u001b[0m\u001b[0;34m*\u001b[0m\u001b[0margs\u001b[0m\u001b[0;34m,\u001b[0m \u001b[0;34m**\u001b[0m\u001b[0mkwargs\u001b[0m\u001b[0;34m)\u001b[0m\u001b[0;34m\u001b[0m\u001b[0;34m\u001b[0m\u001b[0m\n\u001b[0m\u001b[1;32m   1793\u001b[0m                 \u001b[0mself\u001b[0m\u001b[0;34m.\u001b[0m\u001b[0mn_completed_tasks\u001b[0m \u001b[0;34m+=\u001b[0m \u001b[0;36m1\u001b[0m\u001b[0;34m\u001b[0m\u001b[0;34m\u001b[0m\u001b[0m\n\u001b[1;32m   1794\u001b[0m                 \u001b[0mself\u001b[0m\u001b[0;34m.\u001b[0m\u001b[0mprint_progress\u001b[0m\u001b[0;34m(\u001b[0m\u001b[0;34m)\u001b[0m\u001b[0;34m\u001b[0m\u001b[0;34m\u001b[0m\u001b[0m\n",
            "\u001b[0;32m/usr/local/lib/python3.10/dist-packages/sklearn/utils/parallel.py\u001b[0m in \u001b[0;36m__call__\u001b[0;34m(self, *args, **kwargs)\u001b[0m\n\u001b[1;32m    121\u001b[0m             \u001b[0mconfig\u001b[0m \u001b[0;34m=\u001b[0m \u001b[0;34m{\u001b[0m\u001b[0;34m}\u001b[0m\u001b[0;34m\u001b[0m\u001b[0;34m\u001b[0m\u001b[0m\n\u001b[1;32m    122\u001b[0m         \u001b[0;32mwith\u001b[0m \u001b[0mconfig_context\u001b[0m\u001b[0;34m(\u001b[0m\u001b[0;34m**\u001b[0m\u001b[0mconfig\u001b[0m\u001b[0;34m)\u001b[0m\u001b[0;34m:\u001b[0m\u001b[0;34m\u001b[0m\u001b[0;34m\u001b[0m\u001b[0m\n\u001b[0;32m--> 123\u001b[0;31m             \u001b[0;32mreturn\u001b[0m \u001b[0mself\u001b[0m\u001b[0;34m.\u001b[0m\u001b[0mfunction\u001b[0m\u001b[0;34m(\u001b[0m\u001b[0;34m*\u001b[0m\u001b[0margs\u001b[0m\u001b[0;34m,\u001b[0m \u001b[0;34m**\u001b[0m\u001b[0mkwargs\u001b[0m\u001b[0;34m)\u001b[0m\u001b[0;34m\u001b[0m\u001b[0;34m\u001b[0m\u001b[0m\n\u001b[0m",
            "\u001b[0;32m/usr/local/lib/python3.10/dist-packages/sklearn/ensemble/_base.py\u001b[0m in \u001b[0;36m_fit_single_estimator\u001b[0;34m(estimator, X, y, sample_weight, message_clsname, message)\u001b[0m\n\u001b[1;32m     33\u001b[0m         \u001b[0;32mtry\u001b[0m\u001b[0;34m:\u001b[0m\u001b[0;34m\u001b[0m\u001b[0;34m\u001b[0m\u001b[0m\n\u001b[1;32m     34\u001b[0m             \u001b[0;32mwith\u001b[0m \u001b[0m_print_elapsed_time\u001b[0m\u001b[0;34m(\u001b[0m\u001b[0mmessage_clsname\u001b[0m\u001b[0;34m,\u001b[0m \u001b[0mmessage\u001b[0m\u001b[0;34m)\u001b[0m\u001b[0;34m:\u001b[0m\u001b[0;34m\u001b[0m\u001b[0;34m\u001b[0m\u001b[0m\n\u001b[0;32m---> 35\u001b[0;31m                 \u001b[0mestimator\u001b[0m\u001b[0;34m.\u001b[0m\u001b[0mfit\u001b[0m\u001b[0;34m(\u001b[0m\u001b[0mX\u001b[0m\u001b[0;34m,\u001b[0m \u001b[0my\u001b[0m\u001b[0;34m,\u001b[0m \u001b[0msample_weight\u001b[0m\u001b[0;34m=\u001b[0m\u001b[0msample_weight\u001b[0m\u001b[0;34m)\u001b[0m\u001b[0;34m\u001b[0m\u001b[0;34m\u001b[0m\u001b[0m\n\u001b[0m\u001b[1;32m     36\u001b[0m         \u001b[0;32mexcept\u001b[0m \u001b[0mTypeError\u001b[0m \u001b[0;32mas\u001b[0m \u001b[0mexc\u001b[0m\u001b[0;34m:\u001b[0m\u001b[0;34m\u001b[0m\u001b[0;34m\u001b[0m\u001b[0m\n\u001b[1;32m     37\u001b[0m             \u001b[0;32mif\u001b[0m \u001b[0;34m\"unexpected keyword argument 'sample_weight'\"\u001b[0m \u001b[0;32min\u001b[0m \u001b[0mstr\u001b[0m\u001b[0;34m(\u001b[0m\u001b[0mexc\u001b[0m\u001b[0;34m)\u001b[0m\u001b[0;34m:\u001b[0m\u001b[0;34m\u001b[0m\u001b[0;34m\u001b[0m\u001b[0m\n",
            "\u001b[0;32m/usr/local/lib/python3.10/dist-packages/sklearn/svm/_base.py\u001b[0m in \u001b[0;36mfit\u001b[0;34m(self, X, y, sample_weight)\u001b[0m\n\u001b[1;32m    250\u001b[0m \u001b[0;34m\u001b[0m\u001b[0m\n\u001b[1;32m    251\u001b[0m         \u001b[0mseed\u001b[0m \u001b[0;34m=\u001b[0m \u001b[0mrnd\u001b[0m\u001b[0;34m.\u001b[0m\u001b[0mrandint\u001b[0m\u001b[0;34m(\u001b[0m\u001b[0mnp\u001b[0m\u001b[0;34m.\u001b[0m\u001b[0miinfo\u001b[0m\u001b[0;34m(\u001b[0m\u001b[0;34m\"i\"\u001b[0m\u001b[0;34m)\u001b[0m\u001b[0;34m.\u001b[0m\u001b[0mmax\u001b[0m\u001b[0;34m)\u001b[0m\u001b[0;34m\u001b[0m\u001b[0;34m\u001b[0m\u001b[0m\n\u001b[0;32m--> 252\u001b[0;31m         \u001b[0mfit\u001b[0m\u001b[0;34m(\u001b[0m\u001b[0mX\u001b[0m\u001b[0;34m,\u001b[0m \u001b[0my\u001b[0m\u001b[0;34m,\u001b[0m \u001b[0msample_weight\u001b[0m\u001b[0;34m,\u001b[0m \u001b[0msolver_type\u001b[0m\u001b[0;34m,\u001b[0m \u001b[0mkernel\u001b[0m\u001b[0;34m,\u001b[0m \u001b[0mrandom_seed\u001b[0m\u001b[0;34m=\u001b[0m\u001b[0mseed\u001b[0m\u001b[0;34m)\u001b[0m\u001b[0;34m\u001b[0m\u001b[0;34m\u001b[0m\u001b[0m\n\u001b[0m\u001b[1;32m    253\u001b[0m         \u001b[0;31m# see comment on the other call to np.iinfo in this file\u001b[0m\u001b[0;34m\u001b[0m\u001b[0;34m\u001b[0m\u001b[0m\n\u001b[1;32m    254\u001b[0m \u001b[0;34m\u001b[0m\u001b[0m\n",
            "\u001b[0;32m/usr/local/lib/python3.10/dist-packages/sklearn/svm/_base.py\u001b[0m in \u001b[0;36m_sparse_fit\u001b[0;34m(self, X, y, sample_weight, solver_type, kernel, random_seed)\u001b[0m\n\u001b[1;32m    371\u001b[0m             \u001b[0mself\u001b[0m\u001b[0;34m.\u001b[0m\u001b[0mfit_status_\u001b[0m\u001b[0;34m,\u001b[0m\u001b[0;34m\u001b[0m\u001b[0;34m\u001b[0m\u001b[0m\n\u001b[1;32m    372\u001b[0m             \u001b[0mself\u001b[0m\u001b[0;34m.\u001b[0m\u001b[0m_num_iter\u001b[0m\u001b[0;34m,\u001b[0m\u001b[0;34m\u001b[0m\u001b[0;34m\u001b[0m\u001b[0m\n\u001b[0;32m--> 373\u001b[0;31m         \u001b[0;34m)\u001b[0m \u001b[0;34m=\u001b[0m \u001b[0mlibsvm_sparse\u001b[0m\u001b[0;34m.\u001b[0m\u001b[0mlibsvm_sparse_train\u001b[0m\u001b[0;34m(\u001b[0m\u001b[0;34m\u001b[0m\u001b[0;34m\u001b[0m\u001b[0m\n\u001b[0m\u001b[1;32m    374\u001b[0m             \u001b[0mX\u001b[0m\u001b[0;34m.\u001b[0m\u001b[0mshape\u001b[0m\u001b[0;34m[\u001b[0m\u001b[0;36m1\u001b[0m\u001b[0;34m]\u001b[0m\u001b[0;34m,\u001b[0m\u001b[0;34m\u001b[0m\u001b[0;34m\u001b[0m\u001b[0m\n\u001b[1;32m    375\u001b[0m             \u001b[0mX\u001b[0m\u001b[0;34m.\u001b[0m\u001b[0mdata\u001b[0m\u001b[0;34m,\u001b[0m\u001b[0;34m\u001b[0m\u001b[0;34m\u001b[0m\u001b[0m\n",
            "\u001b[0;32msklearn/svm/_libsvm_sparse.pyx\u001b[0m in \u001b[0;36msklearn.svm._libsvm_sparse.libsvm_sparse_train\u001b[0;34m()\u001b[0m\n",
            "\u001b[0;32m/usr/local/lib/python3.10/dist-packages/scipy/sparse/_compressed.py\u001b[0m in \u001b[0;36m__init__\u001b[0;34m(self, arg1, shape, dtype, copy)\u001b[0m\n\u001b[1;32m     23\u001b[0m     \u001b[0;34m\"\"\"base matrix class for compressed row- and column-oriented matrices\"\"\"\u001b[0m\u001b[0;34m\u001b[0m\u001b[0;34m\u001b[0m\u001b[0m\n\u001b[1;32m     24\u001b[0m \u001b[0;34m\u001b[0m\u001b[0m\n\u001b[0;32m---> 25\u001b[0;31m     \u001b[0;32mdef\u001b[0m \u001b[0m__init__\u001b[0m\u001b[0;34m(\u001b[0m\u001b[0mself\u001b[0m\u001b[0;34m,\u001b[0m \u001b[0marg1\u001b[0m\u001b[0;34m,\u001b[0m \u001b[0mshape\u001b[0m\u001b[0;34m=\u001b[0m\u001b[0;32mNone\u001b[0m\u001b[0;34m,\u001b[0m \u001b[0mdtype\u001b[0m\u001b[0;34m=\u001b[0m\u001b[0;32mNone\u001b[0m\u001b[0;34m,\u001b[0m \u001b[0mcopy\u001b[0m\u001b[0;34m=\u001b[0m\u001b[0;32mFalse\u001b[0m\u001b[0;34m)\u001b[0m\u001b[0;34m:\u001b[0m\u001b[0;34m\u001b[0m\u001b[0;34m\u001b[0m\u001b[0m\n\u001b[0m\u001b[1;32m     26\u001b[0m         \u001b[0m_data_matrix\u001b[0m\u001b[0;34m.\u001b[0m\u001b[0m__init__\u001b[0m\u001b[0;34m(\u001b[0m\u001b[0mself\u001b[0m\u001b[0;34m)\u001b[0m\u001b[0;34m\u001b[0m\u001b[0;34m\u001b[0m\u001b[0m\n\u001b[1;32m     27\u001b[0m \u001b[0;34m\u001b[0m\u001b[0m\n",
            "\u001b[0;31mKeyboardInterrupt\u001b[0m: "
          ]
        }
      ],
      "source": [
        "AdaBoost = AdaBoostClassifier(learning_rate=0.1,estimator = VotingClassifiers, algorithm='SAMME')\n",
        "AdaBoost.fit(X_train, y_train)\n",
        "print('Training score:',AdaBoost.score(X_train, y_train))\n",
        "print('Testing score:',AdaBoost.score(X_test,y_test))"
      ]
    },
    {
      "cell_type": "markdown",
      "metadata": {
        "id": "e1MevBKFVLic"
      },
      "source": [
        "# Gradient Boosting\n"
      ]
    },
    {
      "cell_type": "code",
      "execution_count": null,
      "metadata": {
        "colab": {
          "base_uri": "https://localhost:8080/"
        },
        "id": "JWATYtmfMrAV",
        "outputId": "7de4e4f8-aa46-4aef-8d25-65341e063865"
      },
      "outputs": [
        {
          "name": "stdout",
          "output_type": "stream",
          "text": [
            "Training score: 0.9315934065934066\n",
            "Testing score: 0.9216346153846153\n"
          ]
        }
      ],
      "source": [
        "# from sklearn.model_selection import RandomizedSearchCV\n",
        "from sklearn.ensemble import GradientBoostingClassifier\n",
        "# model3 = GradientBoostingClassifier()\n",
        "model3 = GradientBoostingClassifier(learning_rate= 0.1, n_estimators=5)\n",
        "model3.fit(X_train,y_train)\n",
        "print('Training score:',model3.score(X_train,y_train))\n",
        "print('Testing score:',model3.score(X_test,y_test))"
      ]
    },
    {
      "cell_type": "code",
      "execution_count": null,
      "metadata": {
        "colab": {
          "base_uri": "https://localhost:8080/"
        },
        "id": "KN2WgR0Gq1IG",
        "outputId": "131192e2-a836-48f1-d348-8af04b80a2ac"
      },
      "outputs": [
        {
          "name": "stdout",
          "output_type": "stream",
          "text": [
            "Confusion matrix:\n",
            "[[2624  486]\n",
            " [   3 3127]]\n",
            "Classification report:\n",
            "              precision    recall  f1-score   support\n",
            "\n",
            "           0       1.00      0.84      0.91      3110\n",
            "           1       0.87      1.00      0.93      3130\n",
            "\n",
            "    accuracy                           0.92      6240\n",
            "   macro avg       0.93      0.92      0.92      6240\n",
            "weighted avg       0.93      0.92      0.92      6240\n",
            "\n"
          ]
        }
      ],
      "source": [
        "from sklearn.metrics import confusion_matrix, classification_report\n",
        "\n",
        "# Obtain predicted labels for test data\n",
        "gradient_predictions = model3.predict(X_test)\n",
        "\n",
        "# Create confusion matrix\n",
        "confusion_matrix_gradient_test = confusion_matrix(y_test, gradient_predictions)\n",
        "print(\"Confusion matrix:\")\n",
        "print(confusion_matrix_gradient_test)\n",
        "\n",
        "# Create classification report\n",
        "class_report_gradient = classification_report(y_test, gradient_predictions)\n",
        "print(\"Classification report:\")\n",
        "print(class_report_gradient)"
      ]
    },
    {
      "cell_type": "markdown",
      "metadata": {
        "id": "iq425LCfVlRa"
      },
      "source": [
        "# Bagging(DT)"
      ]
    },
    {
      "cell_type": "code",
      "execution_count": null,
      "metadata": {
        "colab": {
          "base_uri": "https://localhost:8080/"
        },
        "id": "Ttb3NkveZBSv",
        "outputId": "8d236dce-ecf3-43b1-f9b5-74691037a2aa"
      },
      "outputs": [
        {
          "name": "stdout",
          "output_type": "stream",
          "text": [
            "Testing accuracy of BaggingClassifier is 0.9237179487179488\n"
          ]
        }
      ],
      "source": [
        "from sklearn.ensemble import BaggingClassifier\n",
        "# bagging_model = BaggingClassifier(base_estimator=tree_final_model, n_estimators=10, random_state=42)\n",
        "bagging_model = BaggingClassifier(estimator=model_dt)\n",
        "\n",
        "# Fit the bagging classifier on the training data\n",
        "bagging_model.fit(X_train, y_train)\n",
        "\n",
        "# Predict using the bagging classifier\n",
        "bagging_predictions = bagging_model.predict(X_test)\n",
        "\n",
        "# Evaluate the bagging classifier\n",
        "bagging_acc = accuracy_score(y_test, bagging_predictions)\n",
        "print(f\"Testing accuracy of BaggingClassifier is {bagging_acc}\")"
      ]
    },
    {
      "cell_type": "code",
      "execution_count": null,
      "metadata": {
        "colab": {
          "base_uri": "https://localhost:8080/"
        },
        "id": "XrOC6WuRdyU2",
        "outputId": "6b508eb0-d5b2-4446-b29a-63d6ef72c5d3"
      },
      "outputs": [
        {
          "name": "stdout",
          "output_type": "stream",
          "text": [
            "Cross-validation scores: [0.92857143 0.92747253 0.90989011 0.92967033 0.92967033 0.92967033\n",
            " 0.91648352 0.91868132 0.91318681 0.91758242 0.91318681 0.91868132\n",
            " 0.92637363 0.92417582 0.91318681 0.91098901]\n",
            "Mean cross-validation accuracy: 0.920467032967033\n"
          ]
        }
      ],
      "source": [
        "cross_val_scores = cross_val_score(bagging_model, X_train, y_train, cv=16)\n",
        "# Print the cross-validation scores\n",
        "print(\"Cross-validation scores:\", cross_val_scores)\n",
        "print(\"Mean cross-validation accuracy:\", np.mean(cross_val_scores))\n"
      ]
    },
    {
      "cell_type": "code",
      "execution_count": null,
      "metadata": {
        "id": "Nn2iMlDM4Afp"
      },
      "outputs": [],
      "source": [
        "from sklearn.metrics import confusion_matrix, classification_report\n",
        "\n",
        "# Obtain predicted labels for test data\n",
        "bagging_predictions = bagging_model.predict(X_test)\n",
        "\n",
        "# Create confusion matrix\n",
        "confusion_matrix_test = confusion_matrix(y_test, bagging_predictions)\n",
        "print(\"Confusion matrix:\")\n",
        "print(confusion_matrix_test)\n",
        "\n",
        "# Create classification report\n",
        "class_report = classification_report(y_test, bagging_predictions)\n",
        "print(\"Classification report:\")\n",
        "print(class_report)\n"
      ]
    },
    {
      "cell_type": "markdown",
      "metadata": {
        "id": "y6vbTkTAwQEd"
      },
      "source": [
        "# Bagging -Ensemble"
      ]
    },
    {
      "cell_type": "code",
      "execution_count": null,
      "metadata": {
        "colab": {
          "base_uri": "https://localhost:8080/"
        },
        "id": "3HaZCu6kMlNU",
        "outputId": "6ce9b2e7-3f53-43b9-b499-e89ce0ff0f7c"
      },
      "outputs": [
        {
          "name": "stderr",
          "output_type": "stream",
          "text": [
            "/usr/local/lib/python3.10/dist-packages/sklearn/ensemble/_base.py:166: FutureWarning: `base_estimator` was renamed to `estimator` in version 1.2 and will be removed in 1.4.\n",
            "  warnings.warn(\n"
          ]
        },
        {
          "name": "stdout",
          "output_type": "stream",
          "text": [
            "Testing accuracy of BaggingClassifier is 0.9365384615384615\n"
          ]
        }
      ],
      "source": [
        "from sklearn.ensemble import BaggingClassifier\n",
        "bagging_model_ensemble = BaggingClassifier(base_estimator=VotingClassifiers, n_estimators=10, random_state=42)\n",
        "\n",
        "# Fit the bagging classifier on the training data\n",
        "bagging_model_ensemble.fit(X_train, y_train)\n",
        "\n",
        "# Predict using the bagging classifier\n",
        "bagging_predictions_ensemble = bagging_model_ensemble.predict(X_test)\n",
        "\n",
        "# Evaluate the bagging classifier\n",
        "bagging_acc = accuracy_score(y_test, bagging_predictions_ensemble)\n",
        "print(f\"Testing accuracy of BaggingClassifier is {bagging_acc}\")"
      ]
    },
    {
      "cell_type": "code",
      "execution_count": null,
      "metadata": {
        "colab": {
          "base_uri": "https://localhost:8080/"
        },
        "id": "PXY7OWKmLO2V",
        "outputId": "2f4aa512-c2f0-4c4e-ad37-645df327b756"
      },
      "outputs": [
        {
          "name": "stdout",
          "output_type": "stream",
          "text": [
            "Confusion matrix:\n",
            "[[3023   70]\n",
            " [ 326 2821]]\n",
            "Classification report:\n",
            "              precision    recall  f1-score   support\n",
            "\n",
            "           0       0.90      0.98      0.94      3093\n",
            "           1       0.98      0.90      0.93      3147\n",
            "\n",
            "    accuracy                           0.94      6240\n",
            "   macro avg       0.94      0.94      0.94      6240\n",
            "weighted avg       0.94      0.94      0.94      6240\n",
            "\n"
          ]
        }
      ],
      "source": [
        "# Obtain predicted labels for test data\n",
        "# bagging_predictions_ensemble = bagging_model.predict(X_test)\n",
        "\n",
        "# Create confusion matrix\n",
        "confusion_matrix_test_bagging_ensemble = confusion_matrix(y_test, bagging_predictions_ensemble)\n",
        "print(\"Confusion matrix:\")\n",
        "print(confusion_matrix_test_bagging_ensemble)\n",
        "\n",
        "# Create classification report\n",
        "class_report = classification_report(y_test, bagging_predictions_ensemble)\n",
        "print(\"Classification report:\")\n",
        "print(class_report)\n"
      ]
    },
    {
      "cell_type": "markdown",
      "metadata": {
        "id": "YwlITxfsVt1J"
      },
      "source": [
        "# Stacking Classifier"
      ]
    },
    {
      "cell_type": "code",
      "execution_count": null,
      "metadata": {
        "id": "b3-kzn6kjlt6"
      },
      "outputs": [],
      "source": [
        "level0 = list()\n",
        "level0.append(('bayes', naive_reg))\n",
        "level0.append(('DT', model_dt))\n",
        "level0.append(('svm', svc_best))\n",
        " # define meta learner model\n",
        "# level1 = LogisticRegression()"
      ]
    },
    {
      "cell_type": "code",
      "execution_count": null,
      "metadata": {
        "id": "GZf0e3I7jC_v"
      },
      "outputs": [],
      "source": [
        "model = StackingClassifier(estimators=level0)"
      ]
    },
    {
      "cell_type": "code",
      "execution_count": null,
      "metadata": {
        "colab": {
          "base_uri": "https://localhost:8080/",
          "height": 161
        },
        "id": "NDVERbP1jXTv",
        "outputId": "ba52e1e9-4aae-4338-e504-bb7e76c4b49c"
      },
      "outputs": [
        {
          "data": {
            "text/html": [
              "<style>#sk-container-id-2 {color: black;background-color: white;}#sk-container-id-2 pre{padding: 0;}#sk-container-id-2 div.sk-toggleable {background-color: white;}#sk-container-id-2 label.sk-toggleable__label {cursor: pointer;display: block;width: 100%;margin-bottom: 0;padding: 0.3em;box-sizing: border-box;text-align: center;}#sk-container-id-2 label.sk-toggleable__label-arrow:before {content: \"▸\";float: left;margin-right: 0.25em;color: #696969;}#sk-container-id-2 label.sk-toggleable__label-arrow:hover:before {color: black;}#sk-container-id-2 div.sk-estimator:hover label.sk-toggleable__label-arrow:before {color: black;}#sk-container-id-2 div.sk-toggleable__content {max-height: 0;max-width: 0;overflow: hidden;text-align: left;background-color: #f0f8ff;}#sk-container-id-2 div.sk-toggleable__content pre {margin: 0.2em;color: black;border-radius: 0.25em;background-color: #f0f8ff;}#sk-container-id-2 input.sk-toggleable__control:checked~div.sk-toggleable__content {max-height: 200px;max-width: 100%;overflow: auto;}#sk-container-id-2 input.sk-toggleable__control:checked~label.sk-toggleable__label-arrow:before {content: \"▾\";}#sk-container-id-2 div.sk-estimator input.sk-toggleable__control:checked~label.sk-toggleable__label {background-color: #d4ebff;}#sk-container-id-2 div.sk-label input.sk-toggleable__control:checked~label.sk-toggleable__label {background-color: #d4ebff;}#sk-container-id-2 input.sk-hidden--visually {border: 0;clip: rect(1px 1px 1px 1px);clip: rect(1px, 1px, 1px, 1px);height: 1px;margin: -1px;overflow: hidden;padding: 0;position: absolute;width: 1px;}#sk-container-id-2 div.sk-estimator {font-family: monospace;background-color: #f0f8ff;border: 1px dotted black;border-radius: 0.25em;box-sizing: border-box;margin-bottom: 0.5em;}#sk-container-id-2 div.sk-estimator:hover {background-color: #d4ebff;}#sk-container-id-2 div.sk-parallel-item::after {content: \"\";width: 100%;border-bottom: 1px solid gray;flex-grow: 1;}#sk-container-id-2 div.sk-label:hover label.sk-toggleable__label {background-color: #d4ebff;}#sk-container-id-2 div.sk-serial::before {content: \"\";position: absolute;border-left: 1px solid gray;box-sizing: border-box;top: 0;bottom: 0;left: 50%;z-index: 0;}#sk-container-id-2 div.sk-serial {display: flex;flex-direction: column;align-items: center;background-color: white;padding-right: 0.2em;padding-left: 0.2em;position: relative;}#sk-container-id-2 div.sk-item {position: relative;z-index: 1;}#sk-container-id-2 div.sk-parallel {display: flex;align-items: stretch;justify-content: center;background-color: white;position: relative;}#sk-container-id-2 div.sk-item::before, #sk-container-id-2 div.sk-parallel-item::before {content: \"\";position: absolute;border-left: 1px solid gray;box-sizing: border-box;top: 0;bottom: 0;left: 50%;z-index: -1;}#sk-container-id-2 div.sk-parallel-item {display: flex;flex-direction: column;z-index: 1;position: relative;background-color: white;}#sk-container-id-2 div.sk-parallel-item:first-child::after {align-self: flex-end;width: 50%;}#sk-container-id-2 div.sk-parallel-item:last-child::after {align-self: flex-start;width: 50%;}#sk-container-id-2 div.sk-parallel-item:only-child::after {width: 0;}#sk-container-id-2 div.sk-dashed-wrapped {border: 1px dashed gray;margin: 0 0.4em 0.5em 0.4em;box-sizing: border-box;padding-bottom: 0.4em;background-color: white;}#sk-container-id-2 div.sk-label label {font-family: monospace;font-weight: bold;display: inline-block;line-height: 1.2em;}#sk-container-id-2 div.sk-label-container {text-align: center;}#sk-container-id-2 div.sk-container {/* jupyter's `normalize.less` sets `[hidden] { display: none; }` but bootstrap.min.css set `[hidden] { display: none !important; }` so we also need the `!important` here to be able to override the default hidden behavior on the sphinx rendered scikit-learn.org. See: https://github.com/scikit-learn/scikit-learn/issues/21755 */display: inline-block !important;position: relative;}#sk-container-id-2 div.sk-text-repr-fallback {display: none;}</style><div id=\"sk-container-id-2\" class=\"sk-top-container\"><div class=\"sk-text-repr-fallback\"><pre>StackingClassifier(estimators=[(&#x27;bayes&#x27;, MultinomialNB(alpha=40)),\n",
              "                               (&#x27;DT&#x27;,\n",
              "                                DecisionTreeClassifier(max_depth=1,\n",
              "                                                       min_samples_split=10)),\n",
              "                               (&#x27;svm&#x27;, SVC(C=0.03, probability=True))])</pre><b>In a Jupyter environment, please rerun this cell to show the HTML representation or trust the notebook. <br />On GitHub, the HTML representation is unable to render, please try loading this page with nbviewer.org.</b></div><div class=\"sk-container\" hidden><div class=\"sk-item sk-dashed-wrapped\"><div class=\"sk-label-container\"><div class=\"sk-label sk-toggleable\"><input class=\"sk-toggleable__control sk-hidden--visually\" id=\"sk-estimator-id-5\" type=\"checkbox\" ><label for=\"sk-estimator-id-5\" class=\"sk-toggleable__label sk-toggleable__label-arrow\">StackingClassifier</label><div class=\"sk-toggleable__content\"><pre>StackingClassifier(estimators=[(&#x27;bayes&#x27;, MultinomialNB(alpha=40)),\n",
              "                               (&#x27;DT&#x27;,\n",
              "                                DecisionTreeClassifier(max_depth=1,\n",
              "                                                       min_samples_split=10)),\n",
              "                               (&#x27;svm&#x27;, SVC(C=0.03, probability=True))])</pre></div></div></div><div class=\"sk-serial\"><div class=\"sk-item\"><div class=\"sk-parallel\"><div class=\"sk-parallel-item\"><div class=\"sk-item\"><div class=\"sk-label-container\"><div class=\"sk-label sk-toggleable\"><label>bayes</label></div></div><div class=\"sk-serial\"><div class=\"sk-item\"><div class=\"sk-estimator sk-toggleable\"><input class=\"sk-toggleable__control sk-hidden--visually\" id=\"sk-estimator-id-6\" type=\"checkbox\" ><label for=\"sk-estimator-id-6\" class=\"sk-toggleable__label sk-toggleable__label-arrow\">MultinomialNB</label><div class=\"sk-toggleable__content\"><pre>MultinomialNB(alpha=40)</pre></div></div></div></div></div></div><div class=\"sk-parallel-item\"><div class=\"sk-item\"><div class=\"sk-label-container\"><div class=\"sk-label sk-toggleable\"><label>DT</label></div></div><div class=\"sk-serial\"><div class=\"sk-item\"><div class=\"sk-estimator sk-toggleable\"><input class=\"sk-toggleable__control sk-hidden--visually\" id=\"sk-estimator-id-7\" type=\"checkbox\" ><label for=\"sk-estimator-id-7\" class=\"sk-toggleable__label sk-toggleable__label-arrow\">DecisionTreeClassifier</label><div class=\"sk-toggleable__content\"><pre>DecisionTreeClassifier(max_depth=1, min_samples_split=10)</pre></div></div></div></div></div></div><div class=\"sk-parallel-item\"><div class=\"sk-item\"><div class=\"sk-label-container\"><div class=\"sk-label sk-toggleable\"><label>svm</label></div></div><div class=\"sk-serial\"><div class=\"sk-item\"><div class=\"sk-estimator sk-toggleable\"><input class=\"sk-toggleable__control sk-hidden--visually\" id=\"sk-estimator-id-8\" type=\"checkbox\" ><label for=\"sk-estimator-id-8\" class=\"sk-toggleable__label sk-toggleable__label-arrow\">SVC</label><div class=\"sk-toggleable__content\"><pre>SVC(C=0.03, probability=True)</pre></div></div></div></div></div></div></div></div><div class=\"sk-item\"><div class=\"sk-parallel\"><div class=\"sk-parallel-item\"><div class=\"sk-item\"><div class=\"sk-label-container\"><div class=\"sk-label sk-toggleable\"><label>final_estimator</label></div></div><div class=\"sk-serial\"><div class=\"sk-item\"><div class=\"sk-estimator sk-toggleable\"><input class=\"sk-toggleable__control sk-hidden--visually\" id=\"sk-estimator-id-9\" type=\"checkbox\" ><label for=\"sk-estimator-id-9\" class=\"sk-toggleable__label sk-toggleable__label-arrow\">LogisticRegression</label><div class=\"sk-toggleable__content\"><pre>LogisticRegression()</pre></div></div></div></div></div></div></div></div></div></div></div></div>"
            ],
            "text/plain": [
              "StackingClassifier(estimators=[('bayes', MultinomialNB(alpha=40)),\n",
              "                               ('DT',\n",
              "                                DecisionTreeClassifier(max_depth=1,\n",
              "                                                       min_samples_split=10)),\n",
              "                               ('svm', SVC(C=0.03, probability=True))])"
            ]
          },
          "execution_count": 38,
          "metadata": {},
          "output_type": "execute_result"
        }
      ],
      "source": [
        "model.fit(X_train, y_train)\n"
      ]
    },
    {
      "cell_type": "code",
      "execution_count": null,
      "metadata": {
        "colab": {
          "base_uri": "https://localhost:8080/"
        },
        "id": "oyZ0cVnMjhNR",
        "outputId": "c0496f28-2304-4a52-fa42-f5bb42712ca9"
      },
      "outputs": [
        {
          "data": {
            "text/plain": [
              "0.9756181318681318"
            ]
          },
          "execution_count": 39,
          "metadata": {},
          "output_type": "execute_result"
        }
      ],
      "source": [
        "model.score(X_train, y_train)"
      ]
    },
    {
      "cell_type": "code",
      "execution_count": null,
      "metadata": {
        "colab": {
          "base_uri": "https://localhost:8080/"
        },
        "id": "SONFBnwLo3tw",
        "outputId": "da6435ed-1f94-42fc-b517-450e8c1aa21b"
      },
      "outputs": [
        {
          "data": {
            "text/plain": [
              "0.9658653846153846"
            ]
          },
          "execution_count": 40,
          "metadata": {},
          "output_type": "execute_result"
        }
      ],
      "source": [
        "model.score(X_test,y_test)"
      ]
    },
    {
      "cell_type": "code",
      "execution_count": null,
      "metadata": {
        "colab": {
          "base_uri": "https://localhost:8080/",
          "height": 449
        },
        "id": "mbLDblWqpBAc",
        "outputId": "72d5cdec-7f77-4f9d-df0d-2dd82a02d7b6"
      },
      "outputs": [
        {
          "data": {
            "image/png": "[encoded data removed]",
            "text/plain": [
              "<Figure size 640x480 with 2 Axes>"
            ]
          },
          "metadata": {},
          "output_type": "display_data"
        }
      ],
      "source": [
        "conf_matrix(model)"
      ]
    },
    {
      "cell_type": "code",
      "execution_count": null,
      "metadata": {
        "colab": {
          "base_uri": "https://localhost:8080/"
        },
        "id": "uVqMWUi9KZ0K",
        "outputId": "1fa65220-f3f3-4302-820c-324d7704d346"
      },
      "outputs": [
        {
          "name": "stdout",
          "output_type": "stream",
          "text": [
            "Confusion matrix:\n",
            "[[2958  135]\n",
            " [  78 3069]]\n",
            "Classification report:\n",
            "              precision    recall  f1-score   support\n",
            "\n",
            "           0       0.97      0.96      0.97      3093\n",
            "           1       0.96      0.98      0.97      3147\n",
            "\n",
            "    accuracy                           0.97      6240\n",
            "   macro avg       0.97      0.97      0.97      6240\n",
            "weighted avg       0.97      0.97      0.97      6240\n",
            "\n"
          ]
        }
      ],
      "source": [
        "from sklearn.metrics import confusion_matrix, classification_report\n",
        "\n",
        "# Obtain predicted labels for test data\n",
        "stacking_predictions = model.predict(X_test)\n",
        "\n",
        "# Create confusion matrix\n",
        "confusion_matrix_stacking_test = confusion_matrix(y_test, stacking_predictions)\n",
        "print(\"Confusion matrix:\")\n",
        "print(confusion_matrix_stacking_test)\n",
        "\n",
        "# Create classification report\n",
        "class_report_stacking = classification_report(y_test, stacking_predictions)\n",
        "print(\"Classification report:\")\n",
        "print(class_report_stacking)"
      ]
    },
    {
      "cell_type": "code",
      "execution_count": null,
      "metadata": {
        "id": "QodB9-gspJhM"
      },
      "outputs": [],
      "source": []
    },
    {
      "cell_type": "markdown",
      "metadata": {
        "id": "uX4nQCLXOnKq"
      },
      "source": [
        "# XGBClassifier\n"
      ]
    },
    {
      "cell_type": "code",
      "execution_count": null,
      "metadata": {
        "id": "XRuVJmGeOrWe"
      },
      "outputs": [],
      "source": [
        "import xgboost as xgb\n",
        "from sklearn.metrics import confusion_matrix, classification_report\n"
      ]
    },
    {
      "cell_type": "code",
      "execution_count": null,
      "metadata": {
        "colab": {
          "base_uri": "https://localhost:8080/",
          "height": 248
        },
        "id": "ssTW8MvwO1xZ",
        "outputId": "18c90ac7-2378-46d7-dce7-b0a6e20ffc35"
      },
      "outputs": [
        {
          "data": {
            "text/html": [
              "<style>#sk-container-id-11 {color: black;background-color: white;}#sk-container-id-11 pre{padding: 0;}#sk-container-id-11 div.sk-toggleable {background-color: white;}#sk-container-id-11 label.sk-toggleable__label {cursor: pointer;display: block;width: 100%;margin-bottom: 0;padding: 0.3em;box-sizing: border-box;text-align: center;}#sk-container-id-11 label.sk-toggleable__label-arrow:before {content: \"▸\";float: left;margin-right: 0.25em;color: #696969;}#sk-container-id-11 label.sk-toggleable__label-arrow:hover:before {color: black;}#sk-container-id-11 div.sk-estimator:hover label.sk-toggleable__label-arrow:before {color: black;}#sk-container-id-11 div.sk-toggleable__content {max-height: 0;max-width: 0;overflow: hidden;text-align: left;background-color: #f0f8ff;}#sk-container-id-11 div.sk-toggleable__content pre {margin: 0.2em;color: black;border-radius: 0.25em;background-color: #f0f8ff;}#sk-container-id-11 input.sk-toggleable__control:checked~div.sk-toggleable__content {max-height: 200px;max-width: 100%;overflow: auto;}#sk-container-id-11 input.sk-toggleable__control:checked~label.sk-toggleable__label-arrow:before {content: \"▾\";}#sk-container-id-11 div.sk-estimator input.sk-toggleable__control:checked~label.sk-toggleable__label {background-color: #d4ebff;}#sk-container-id-11 div.sk-label input.sk-toggleable__control:checked~label.sk-toggleable__label {background-color: #d4ebff;}#sk-container-id-11 input.sk-hidden--visually {border: 0;clip: rect(1px 1px 1px 1px);clip: rect(1px, 1px, 1px, 1px);height: 1px;margin: -1px;overflow: hidden;padding: 0;position: absolute;width: 1px;}#sk-container-id-11 div.sk-estimator {font-family: monospace;background-color: #f0f8ff;border: 1px dotted black;border-radius: 0.25em;box-sizing: border-box;margin-bottom: 0.5em;}#sk-container-id-11 div.sk-estimator:hover {background-color: #d4ebff;}#sk-container-id-11 div.sk-parallel-item::after {content: \"\";width: 100%;border-bottom: 1px solid gray;flex-grow: 1;}#sk-container-id-11 div.sk-label:hover label.sk-toggleable__label {background-color: #d4ebff;}#sk-container-id-11 div.sk-serial::before {content: \"\";position: absolute;border-left: 1px solid gray;box-sizing: border-box;top: 0;bottom: 0;left: 50%;z-index: 0;}#sk-container-id-11 div.sk-serial {display: flex;flex-direction: column;align-items: center;background-color: white;padding-right: 0.2em;padding-left: 0.2em;position: relative;}#sk-container-id-11 div.sk-item {position: relative;z-index: 1;}#sk-container-id-11 div.sk-parallel {display: flex;align-items: stretch;justify-content: center;background-color: white;position: relative;}#sk-container-id-11 div.sk-item::before, #sk-container-id-11 div.sk-parallel-item::before {content: \"\";position: absolute;border-left: 1px solid gray;box-sizing: border-box;top: 0;bottom: 0;left: 50%;z-index: -1;}#sk-container-id-11 div.sk-parallel-item {display: flex;flex-direction: column;z-index: 1;position: relative;background-color: white;}#sk-container-id-11 div.sk-parallel-item:first-child::after {align-self: flex-end;width: 50%;}#sk-container-id-11 div.sk-parallel-item:last-child::after {align-self: flex-start;width: 50%;}#sk-container-id-11 div.sk-parallel-item:only-child::after {width: 0;}#sk-container-id-11 div.sk-dashed-wrapped {border: 1px dashed gray;margin: 0 0.4em 0.5em 0.4em;box-sizing: border-box;padding-bottom: 0.4em;background-color: white;}#sk-container-id-11 div.sk-label label {font-family: monospace;font-weight: bold;display: inline-block;line-height: 1.2em;}#sk-container-id-11 div.sk-label-container {text-align: center;}#sk-container-id-11 div.sk-container {/* jupyter's `normalize.less` sets `[hidden] { display: none; }` but bootstrap.min.css set `[hidden] { display: none !important; }` so we also need the `!important` here to be able to override the default hidden behavior on the sphinx rendered scikit-learn.org. See: https://github.com/scikit-learn/scikit-learn/issues/21755 */display: inline-block !important;position: relative;}#sk-container-id-11 div.sk-text-repr-fallback {display: none;}</style><div id=\"sk-container-id-11\" class=\"sk-top-container\"><div class=\"sk-text-repr-fallback\"><pre>XGBClassifier(alpha=0.1, base_score=None, booster=None, callbacks=None,\n",
              "              colsample_bylevel=None, colsample_bynode=None,\n",
              "              colsample_bytree=None, early_stopping_rounds=None,\n",
              "              enable_categorical=False, eval_metric=None, feature_types=None,\n",
              "              gamma=None, gpu_id=None, grow_policy=None, importance_type=None,\n",
              "              interaction_constraints=None, learning_rate=None, max_bin=None,\n",
              "              max_cat_threshold=None, max_cat_to_onehot=None,\n",
              "              max_delta_step=None, max_depth=None, max_leaves=None,\n",
              "              min_child_weight=None, missing=nan, monotone_constraints=None,\n",
              "              n_estimators=10, n_jobs=None, num_parallel_tree=None,\n",
              "              predictor=None, ...)</pre><b>In a Jupyter environment, please rerun this cell to show the HTML representation or trust the notebook. <br />On GitHub, the HTML representation is unable to render, please try loading this page with nbviewer.org.</b></div><div class=\"sk-container\" hidden><div class=\"sk-item\"><div class=\"sk-estimator sk-toggleable\"><input class=\"sk-toggleable__control sk-hidden--visually\" id=\"sk-estimator-id-14\" type=\"checkbox\" checked><label for=\"sk-estimator-id-14\" class=\"sk-toggleable__label sk-toggleable__label-arrow\">XGBClassifier</label><div class=\"sk-toggleable__content\"><pre>XGBClassifier(alpha=0.1, base_score=None, booster=None, callbacks=None,\n",
              "              colsample_bylevel=None, colsample_bynode=None,\n",
              "              colsample_bytree=None, early_stopping_rounds=None,\n",
              "              enable_categorical=False, eval_metric=None, feature_types=None,\n",
              "              gamma=None, gpu_id=None, grow_policy=None, importance_type=None,\n",
              "              interaction_constraints=None, learning_rate=None, max_bin=None,\n",
              "              max_cat_threshold=None, max_cat_to_onehot=None,\n",
              "              max_delta_step=None, max_depth=None, max_leaves=None,\n",
              "              min_child_weight=None, missing=nan, monotone_constraints=None,\n",
              "              n_estimators=10, n_jobs=None, num_parallel_tree=None,\n",
              "              predictor=None, ...)</pre></div></div></div></div></div>"
            ],
            "text/plain": [
              "XGBClassifier(alpha=0.1, base_score=None, booster=None, callbacks=None,\n",
              "              colsample_bylevel=None, colsample_bynode=None,\n",
              "              colsample_bytree=None, early_stopping_rounds=None,\n",
              "              enable_categorical=False, eval_metric=None, feature_types=None,\n",
              "              gamma=None, gpu_id=None, grow_policy=None, importance_type=None,\n",
              "              interaction_constraints=None, learning_rate=None, max_bin=None,\n",
              "              max_cat_threshold=None, max_cat_to_onehot=None,\n",
              "              max_delta_step=None, max_depth=None, max_leaves=None,\n",
              "              min_child_weight=None, missing=nan, monotone_constraints=None,\n",
              "              n_estimators=10, n_jobs=None, num_parallel_tree=None,\n",
              "              predictor=None, ...)"
            ]
          },
          "execution_count": 72,
          "metadata": {},
          "output_type": "execute_result"
        }
      ],
      "source": [
        "xgb_classifier = xgb.XGBClassifier(alpha=0.1, n_estimators=10)\n",
        "xgb_classifier.fit(X_train, y_train)"
      ]
    },
    {
      "cell_type": "code",
      "execution_count": null,
      "metadata": {
        "colab": {
          "base_uri": "https://localhost:8080/"
        },
        "id": "2g17Hz0-QD1A",
        "outputId": "47bfcb95-a756-4bf7-f449-304bffb10171"
      },
      "outputs": [
        {
          "data": {
            "text/plain": [
              "0.9508241758241758"
            ]
          },
          "execution_count": 73,
          "metadata": {},
          "output_type": "execute_result"
        }
      ],
      "source": [
        "xgb_classifier.score(X_train, y_train)"
      ]
    },
    {
      "cell_type": "code",
      "execution_count": null,
      "metadata": {
        "colab": {
          "base_uri": "https://localhost:8080/"
        },
        "id": "XM7arOfIQO2C",
        "outputId": "94ed044f-6268-49d8-fbdd-e7781b4299ba"
      },
      "outputs": [
        {
          "data": {
            "text/plain": [
              "0.9479166666666666"
            ]
          },
          "execution_count": 75,
          "metadata": {},
          "output_type": "execute_result"
        }
      ],
      "source": [
        "xgb_classifier.score(X_test, y_test)"
      ]
    },
    {
      "cell_type": "code",
      "execution_count": null,
      "metadata": {
        "id": "MbgVI6W2O6Qr"
      },
      "outputs": [],
      "source": [
        "y_train_pred = xgb_classifier.predict(X_train)\n",
        "y_test_pred = xgb_classifier.predict(X_test)\n"
      ]
    },
    {
      "cell_type": "code",
      "execution_count": null,
      "metadata": {
        "colab": {
          "base_uri": "https://localhost:8080/"
        },
        "id": "Oiu1t4eSPCyr",
        "outputId": "9f1a9d10-7b6a-4abb-c19f-29dcbd707613"
      },
      "outputs": [
        {
          "name": "stdout",
          "output_type": "stream",
          "text": [
            "Confusion Matrix (Training Set):\n",
            "[[6578  710]\n",
            " [   6 7266]]\n",
            "\n",
            "Confusion Matrix (Test Set):\n",
            "[[2776  323]\n",
            " [   2 3139]]\n"
          ]
        }
      ],
      "source": [
        "cm_train = confusion_matrix(y_train, y_train_pred)\n",
        "print(\"Confusion Matrix (Training Set):\")\n",
        "print(cm_train)\n",
        "\n",
        "cm_test = confusion_matrix(y_test, y_test_pred)\n",
        "print(\"\\nConfusion Matrix (Test Set):\")\n",
        "print(cm_test)\n"
      ]
    },
    {
      "cell_type": "code",
      "execution_count": null,
      "metadata": {
        "colab": {
          "base_uri": "https://localhost:8080/"
        },
        "id": "SxpmYkXyPFd3",
        "outputId": "da198ea7-ed50-4814-d2b1-45a925a5d85e"
      },
      "outputs": [
        {
          "name": "stdout",
          "output_type": "stream",
          "text": [
            "\n",
            "Classification Report (Training Set):\n",
            "              precision    recall  f1-score   support\n",
            "\n",
            "           0       1.00      0.90      0.95      7288\n",
            "           1       0.91      1.00      0.95      7272\n",
            "\n",
            "    accuracy                           0.95     14560\n",
            "   macro avg       0.96      0.95      0.95     14560\n",
            "weighted avg       0.96      0.95      0.95     14560\n",
            "\n",
            "\n",
            "Classification Report (Test Set):\n",
            "              precision    recall  f1-score   support\n",
            "\n",
            "           0       1.00      0.90      0.94      3099\n",
            "           1       0.91      1.00      0.95      3141\n",
            "\n",
            "    accuracy                           0.95      6240\n",
            "   macro avg       0.95      0.95      0.95      6240\n",
            "weighted avg       0.95      0.95      0.95      6240\n",
            "\n"
          ]
        }
      ],
      "source": [
        "cr_train = classification_report(y_train, y_train_pred)\n",
        "print(\"\\nClassification Report (Training Set):\")\n",
        "print(cr_train)\n",
        "\n",
        "cr_test = classification_report(y_test, y_test_pred)\n",
        "print(\"\\nClassification Report (Test Set):\")\n",
        "print(cr_test)\n"
      ]
    },
    {
      "cell_type": "code",
      "execution_count": null,
      "metadata": {
        "id": "kBiznMSfPJT9"
      },
      "outputs": [],
      "source": []
    }
  ],
  "metadata": {
    "colab": {
      "provenance": []
    },
    "kernelspec": {
      "display_name": "Python 3",
      "name": "python3"
    },
    "language_info": {
      "name": "python"
    }
  },
  "nbformat": 4,
  "nbformat_minor": 0
}